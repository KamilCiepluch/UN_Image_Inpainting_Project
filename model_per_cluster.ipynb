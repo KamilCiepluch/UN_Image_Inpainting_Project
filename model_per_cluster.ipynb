{
 "cells": [
  {
   "cell_type": "markdown",
   "metadata": {
    "id": "b_VAUkJmgEdX"
   },
   "source": [
    "# Klasyfikator klastrów"
   ]
  },
  {
   "cell_type": "markdown",
   "metadata": {
    "id": "laxkoQ58ggfA"
   },
   "source": [
    "## IMPORTS"
   ]
  },
  {
   "cell_type": "code",
   "metadata": {
    "colab": {
     "base_uri": "https://localhost:8080/"
    },
    "id": "k8W9ttzHf99W",
    "outputId": "5693aedd-35e6-4ee5-a49b-28c13dd816ce"
   },
   "source": [
    "!pip install comet-ml"
   ],
   "outputs": [],
   "execution_count": null
  },
  {
   "cell_type": "code",
   "metadata": {
    "id": "e45-0lqzgj9j",
    "ExecuteTime": {
     "end_time": "2025-01-16T20:55:43.221832Z",
     "start_time": "2025-01-16T20:55:39.783686Z"
    }
   },
   "source": [
    "import comet_ml\n",
    "\n",
    "import torch\n",
    "from torch import nn\n",
    "from torch.nn import functional as F\n",
    "from torch.utils.data import DataLoader\n",
    "\n",
    "import einops\n",
    "import numpy as np\n",
    "\n",
    "import matplotlib\n",
    "from matplotlib import pyplot as plt"
   ],
   "outputs": [],
   "execution_count": 1
  },
  {
   "cell_type": "code",
   "metadata": {
    "id": "45PCWipEgnBU"
   },
   "source": [
    "# import os\n",
    "\n",
    "# from google.colab import userdata\n",
    "# key = userdata.get('COMET_API_KEY')\n",
    "# os.environ['COMET_API_KEY'] = key"
   ],
   "outputs": [],
   "execution_count": null
  },
  {
   "cell_type": "code",
   "metadata": {
    "colab": {
     "base_uri": "https://localhost:8080/"
    },
    "id": "iWG9YAAkgoJc",
    "outputId": "8f44db06-3666-462a-aeef-06af544ec0ba",
    "ExecuteTime": {
     "end_time": "2025-01-16T20:55:52.150167Z",
     "start_time": "2025-01-16T20:55:52.044658Z"
    }
   },
   "source": [
    "def setup_device():\n",
    "    if torch.cuda.is_available():\n",
    "        device = torch.device('cuda')\n",
    "        # Set default tensor type for cuda\n",
    "        torch.set_default_dtype(torch.float32)\n",
    "    elif torch.backends.mps.is_available():\n",
    "        device = torch.device('mps')\n",
    "    else:\n",
    "        device = torch.device('cpu')\n",
    "        # Ensure we're using float32 on CPU\n",
    "        torch.set_default_dtype(torch.float64)\n",
    "    return device\n",
    "\n",
    "device = setup_device()\n",
    "\n",
    "print(f\"Using {device} device\")"
   ],
   "outputs": [
    {
     "name": "stdout",
     "output_type": "stream",
     "text": [
      "Using cuda device\n"
     ]
    }
   ],
   "execution_count": 2
  },
  {
   "cell_type": "markdown",
   "metadata": {
    "id": "7s2k90WCgqQY"
   },
   "source": [
    "## Dataset"
   ]
  },
  {
   "cell_type": "code",
   "metadata": {
    "colab": {
     "base_uri": "https://localhost:8080/"
    },
    "id": "X_PJ_NkxgrlL",
    "outputId": "ae8347dc-f12b-4dc8-87d3-adddb446c5d7"
   },
   "source": [
    "!pip install datasets"
   ],
   "outputs": [],
   "execution_count": null
  },
  {
   "cell_type": "code",
   "metadata": {
    "id": "5vSo6Jsrgs9s",
    "ExecuteTime": {
     "end_time": "2025-01-16T20:55:55.902848Z",
     "start_time": "2025-01-16T20:55:54.854763Z"
    }
   },
   "source": [
    "from datasets import load_dataset, DatasetDict, load_from_disk\n"
   ],
   "outputs": [],
   "execution_count": 3
  },
  {
   "cell_type": "code",
   "metadata": {
    "colab": {
     "base_uri": "https://localhost:8080/"
    },
    "id": "qv7sMSzHjQjJ",
    "outputId": "64ffdebe-8aa1-439f-9d4c-7fc140e25336"
   },
   "source": [
    "!ls"
   ],
   "outputs": [],
   "execution_count": null
  },
  {
   "cell_type": "code",
   "metadata": {
    "colab": {
     "base_uri": "https://localhost:8080/",
     "height": 258
    },
    "id": "uNu2rfoPgugO",
    "outputId": "1862995f-20a0-46c3-b79c-fe8d77f16ab8",
    "ExecuteTime": {
     "end_time": "2025-01-16T20:55:57.218796Z",
     "start_time": "2025-01-16T20:55:56.843070Z"
    }
   },
   "source": "ds = load_from_disk(\"clustered_dataset\").with_format(\"torch\")",
   "outputs": [],
   "execution_count": 4
  },
  {
   "cell_type": "code",
   "metadata": {
    "id": "vON2G2Cxg2H_",
    "ExecuteTime": {
     "end_time": "2025-01-16T20:55:58.393390Z",
     "start_time": "2025-01-16T20:55:58.388876Z"
    }
   },
   "source": [
    "ds"
   ],
   "outputs": [
    {
     "data": {
      "text/plain": [
       "DatasetDict({\n",
       "    train: Dataset({\n",
       "        features: ['title', 'artist', 'date', 'genre', 'style', 'description', 'filename', 'image', 'cluster'],\n",
       "        num_rows: 82600\n",
       "    })\n",
       "    test: Dataset({\n",
       "        features: ['title', 'artist', 'date', 'genre', 'style', 'description', 'filename', 'image', 'cluster'],\n",
       "        num_rows: 10325\n",
       "    })\n",
       "    valid: Dataset({\n",
       "        features: ['title', 'artist', 'date', 'genre', 'style', 'description', 'filename', 'image', 'cluster'],\n",
       "        num_rows: 10325\n",
       "    })\n",
       "})"
      ]
     },
     "execution_count": 5,
     "metadata": {},
     "output_type": "execute_result"
    }
   ],
   "execution_count": 5
  },
  {
   "cell_type": "code",
   "metadata": {},
   "source": [
    "# from datasets import DatasetDict\n",
    "# \n",
    "# # Create subsets for each cluster\n",
    "# cluster_subsets = {}\n",
    "# \n",
    "# for cluster_id in range(0,20):\n",
    "#     # Filter the dataset for the current cluster\n",
    "#     print(int(cluster_id))\n",
    "#     cluster_data = ds.filter(lambda example: example['cluster'] == cluster_id)\n",
    "#     \n",
    "#     # Add to the cluster_subsets dictionary\n",
    "#     cluster_subsets[int(cluster_id)] = cluster_data\n",
    "# \n",
    "# # cluster_subsets now contains subsets for 20 clusters"
   ],
   "outputs": [],
   "execution_count": null
  },
  {
   "metadata": {
    "ExecuteTime": {
     "end_time": "2025-01-16T20:56:02.592165Z",
     "start_time": "2025-01-16T20:56:01.665949Z"
    }
   },
   "cell_type": "code",
   "source": [
    "from datasets import load_from_disk\n",
    "\n",
    "# Initialize the dictionary to store loaded subsets\n",
    "cluster_subsets = {}\n",
    "\n",
    "# Iterate over the range of cluster IDs (assuming 20 clusters)\n",
    "for cluster_id in range(0, 20):\n",
    "    # Construct the path to the saved subset\n",
    "    subset_path = f\"clusters/cluster_{cluster_id}_subset\"\n",
    "    \n",
    "    # Load the subset from disk and add it to the dictionary\n",
    "    cluster_subsets[cluster_id] = load_from_disk(subset_path).with_format(\"torch\")"
   ],
   "outputs": [],
   "execution_count": 6
  },
  {
   "cell_type": "code",
   "metadata": {
    "ExecuteTime": {
     "end_time": "2025-01-16T20:56:04.930035Z",
     "start_time": "2025-01-16T20:56:04.926532Z"
    }
   },
   "source": [
    "print(cluster_subsets)"
   ],
   "outputs": [
    {
     "name": "stdout",
     "output_type": "stream",
     "text": [
      "{0: DatasetDict({\n",
      "    train: Dataset({\n",
      "        features: ['title', 'artist', 'date', 'genre', 'style', 'description', 'filename', 'image', 'cluster'],\n",
      "        num_rows: 2904\n",
      "    })\n",
      "    test: Dataset({\n",
      "        features: ['title', 'artist', 'date', 'genre', 'style', 'description', 'filename', 'image', 'cluster'],\n",
      "        num_rows: 380\n",
      "    })\n",
      "    valid: Dataset({\n",
      "        features: ['title', 'artist', 'date', 'genre', 'style', 'description', 'filename', 'image', 'cluster'],\n",
      "        num_rows: 389\n",
      "    })\n",
      "}), 1: DatasetDict({\n",
      "    train: Dataset({\n",
      "        features: ['title', 'artist', 'date', 'genre', 'style', 'description', 'filename', 'image', 'cluster'],\n",
      "        num_rows: 3044\n",
      "    })\n",
      "    test: Dataset({\n",
      "        features: ['title', 'artist', 'date', 'genre', 'style', 'description', 'filename', 'image', 'cluster'],\n",
      "        num_rows: 354\n",
      "    })\n",
      "    valid: Dataset({\n",
      "        features: ['title', 'artist', 'date', 'genre', 'style', 'description', 'filename', 'image', 'cluster'],\n",
      "        num_rows: 383\n",
      "    })\n",
      "}), 2: DatasetDict({\n",
      "    train: Dataset({\n",
      "        features: ['title', 'artist', 'date', 'genre', 'style', 'description', 'filename', 'image', 'cluster'],\n",
      "        num_rows: 4609\n",
      "    })\n",
      "    test: Dataset({\n",
      "        features: ['title', 'artist', 'date', 'genre', 'style', 'description', 'filename', 'image', 'cluster'],\n",
      "        num_rows: 556\n",
      "    })\n",
      "    valid: Dataset({\n",
      "        features: ['title', 'artist', 'date', 'genre', 'style', 'description', 'filename', 'image', 'cluster'],\n",
      "        num_rows: 590\n",
      "    })\n",
      "}), 3: DatasetDict({\n",
      "    train: Dataset({\n",
      "        features: ['title', 'artist', 'date', 'genre', 'style', 'description', 'filename', 'image', 'cluster'],\n",
      "        num_rows: 4882\n",
      "    })\n",
      "    test: Dataset({\n",
      "        features: ['title', 'artist', 'date', 'genre', 'style', 'description', 'filename', 'image', 'cluster'],\n",
      "        num_rows: 597\n",
      "    })\n",
      "    valid: Dataset({\n",
      "        features: ['title', 'artist', 'date', 'genre', 'style', 'description', 'filename', 'image', 'cluster'],\n",
      "        num_rows: 607\n",
      "    })\n",
      "}), 4: DatasetDict({\n",
      "    train: Dataset({\n",
      "        features: ['title', 'artist', 'date', 'genre', 'style', 'description', 'filename', 'image', 'cluster'],\n",
      "        num_rows: 4265\n",
      "    })\n",
      "    test: Dataset({\n",
      "        features: ['title', 'artist', 'date', 'genre', 'style', 'description', 'filename', 'image', 'cluster'],\n",
      "        num_rows: 512\n",
      "    })\n",
      "    valid: Dataset({\n",
      "        features: ['title', 'artist', 'date', 'genre', 'style', 'description', 'filename', 'image', 'cluster'],\n",
      "        num_rows: 525\n",
      "    })\n",
      "}), 5: DatasetDict({\n",
      "    train: Dataset({\n",
      "        features: ['title', 'artist', 'date', 'genre', 'style', 'description', 'filename', 'image', 'cluster'],\n",
      "        num_rows: 5019\n",
      "    })\n",
      "    test: Dataset({\n",
      "        features: ['title', 'artist', 'date', 'genre', 'style', 'description', 'filename', 'image', 'cluster'],\n",
      "        num_rows: 672\n",
      "    })\n",
      "    valid: Dataset({\n",
      "        features: ['title', 'artist', 'date', 'genre', 'style', 'description', 'filename', 'image', 'cluster'],\n",
      "        num_rows: 588\n",
      "    })\n",
      "}), 6: DatasetDict({\n",
      "    train: Dataset({\n",
      "        features: ['title', 'artist', 'date', 'genre', 'style', 'description', 'filename', 'image', 'cluster'],\n",
      "        num_rows: 3541\n",
      "    })\n",
      "    test: Dataset({\n",
      "        features: ['title', 'artist', 'date', 'genre', 'style', 'description', 'filename', 'image', 'cluster'],\n",
      "        num_rows: 485\n",
      "    })\n",
      "    valid: Dataset({\n",
      "        features: ['title', 'artist', 'date', 'genre', 'style', 'description', 'filename', 'image', 'cluster'],\n",
      "        num_rows: 465\n",
      "    })\n",
      "}), 7: DatasetDict({\n",
      "    train: Dataset({\n",
      "        features: ['title', 'artist', 'date', 'genre', 'style', 'description', 'filename', 'image', 'cluster'],\n",
      "        num_rows: 5985\n",
      "    })\n",
      "    test: Dataset({\n",
      "        features: ['title', 'artist', 'date', 'genre', 'style', 'description', 'filename', 'image', 'cluster'],\n",
      "        num_rows: 770\n",
      "    })\n",
      "    valid: Dataset({\n",
      "        features: ['title', 'artist', 'date', 'genre', 'style', 'description', 'filename', 'image', 'cluster'],\n",
      "        num_rows: 741\n",
      "    })\n",
      "}), 8: DatasetDict({\n",
      "    train: Dataset({\n",
      "        features: ['title', 'artist', 'date', 'genre', 'style', 'description', 'filename', 'image', 'cluster'],\n",
      "        num_rows: 5447\n",
      "    })\n",
      "    test: Dataset({\n",
      "        features: ['title', 'artist', 'date', 'genre', 'style', 'description', 'filename', 'image', 'cluster'],\n",
      "        num_rows: 651\n",
      "    })\n",
      "    valid: Dataset({\n",
      "        features: ['title', 'artist', 'date', 'genre', 'style', 'description', 'filename', 'image', 'cluster'],\n",
      "        num_rows: 690\n",
      "    })\n",
      "}), 9: DatasetDict({\n",
      "    train: Dataset({\n",
      "        features: ['title', 'artist', 'date', 'genre', 'style', 'description', 'filename', 'image', 'cluster'],\n",
      "        num_rows: 4014\n",
      "    })\n",
      "    test: Dataset({\n",
      "        features: ['title', 'artist', 'date', 'genre', 'style', 'description', 'filename', 'image', 'cluster'],\n",
      "        num_rows: 505\n",
      "    })\n",
      "    valid: Dataset({\n",
      "        features: ['title', 'artist', 'date', 'genre', 'style', 'description', 'filename', 'image', 'cluster'],\n",
      "        num_rows: 494\n",
      "    })\n",
      "}), 10: DatasetDict({\n",
      "    train: Dataset({\n",
      "        features: ['title', 'artist', 'date', 'genre', 'style', 'description', 'filename', 'image', 'cluster'],\n",
      "        num_rows: 3227\n",
      "    })\n",
      "    test: Dataset({\n",
      "        features: ['title', 'artist', 'date', 'genre', 'style', 'description', 'filename', 'image', 'cluster'],\n",
      "        num_rows: 412\n",
      "    })\n",
      "    valid: Dataset({\n",
      "        features: ['title', 'artist', 'date', 'genre', 'style', 'description', 'filename', 'image', 'cluster'],\n",
      "        num_rows: 416\n",
      "    })\n",
      "}), 11: DatasetDict({\n",
      "    train: Dataset({\n",
      "        features: ['title', 'artist', 'date', 'genre', 'style', 'description', 'filename', 'image', 'cluster'],\n",
      "        num_rows: 4019\n",
      "    })\n",
      "    test: Dataset({\n",
      "        features: ['title', 'artist', 'date', 'genre', 'style', 'description', 'filename', 'image', 'cluster'],\n",
      "        num_rows: 491\n",
      "    })\n",
      "    valid: Dataset({\n",
      "        features: ['title', 'artist', 'date', 'genre', 'style', 'description', 'filename', 'image', 'cluster'],\n",
      "        num_rows: 491\n",
      "    })\n",
      "}), 12: DatasetDict({\n",
      "    train: Dataset({\n",
      "        features: ['title', 'artist', 'date', 'genre', 'style', 'description', 'filename', 'image', 'cluster'],\n",
      "        num_rows: 4302\n",
      "    })\n",
      "    test: Dataset({\n",
      "        features: ['title', 'artist', 'date', 'genre', 'style', 'description', 'filename', 'image', 'cluster'],\n",
      "        num_rows: 509\n",
      "    })\n",
      "    valid: Dataset({\n",
      "        features: ['title', 'artist', 'date', 'genre', 'style', 'description', 'filename', 'image', 'cluster'],\n",
      "        num_rows: 550\n",
      "    })\n",
      "}), 13: DatasetDict({\n",
      "    train: Dataset({\n",
      "        features: ['title', 'artist', 'date', 'genre', 'style', 'description', 'filename', 'image', 'cluster'],\n",
      "        num_rows: 3738\n",
      "    })\n",
      "    test: Dataset({\n",
      "        features: ['title', 'artist', 'date', 'genre', 'style', 'description', 'filename', 'image', 'cluster'],\n",
      "        num_rows: 473\n",
      "    })\n",
      "    valid: Dataset({\n",
      "        features: ['title', 'artist', 'date', 'genre', 'style', 'description', 'filename', 'image', 'cluster'],\n",
      "        num_rows: 457\n",
      "    })\n",
      "}), 14: DatasetDict({\n",
      "    train: Dataset({\n",
      "        features: ['title', 'artist', 'date', 'genre', 'style', 'description', 'filename', 'image', 'cluster'],\n",
      "        num_rows: 6697\n",
      "    })\n",
      "    test: Dataset({\n",
      "        features: ['title', 'artist', 'date', 'genre', 'style', 'description', 'filename', 'image', 'cluster'],\n",
      "        num_rows: 841\n",
      "    })\n",
      "    valid: Dataset({\n",
      "        features: ['title', 'artist', 'date', 'genre', 'style', 'description', 'filename', 'image', 'cluster'],\n",
      "        num_rows: 845\n",
      "    })\n",
      "}), 15: DatasetDict({\n",
      "    train: Dataset({\n",
      "        features: ['title', 'artist', 'date', 'genre', 'style', 'description', 'filename', 'image', 'cluster'],\n",
      "        num_rows: 5320\n",
      "    })\n",
      "    test: Dataset({\n",
      "        features: ['title', 'artist', 'date', 'genre', 'style', 'description', 'filename', 'image', 'cluster'],\n",
      "        num_rows: 677\n",
      "    })\n",
      "    valid: Dataset({\n",
      "        features: ['title', 'artist', 'date', 'genre', 'style', 'description', 'filename', 'image', 'cluster'],\n",
      "        num_rows: 686\n",
      "    })\n",
      "}), 16: DatasetDict({\n",
      "    train: Dataset({\n",
      "        features: ['title', 'artist', 'date', 'genre', 'style', 'description', 'filename', 'image', 'cluster'],\n",
      "        num_rows: 2344\n",
      "    })\n",
      "    test: Dataset({\n",
      "        features: ['title', 'artist', 'date', 'genre', 'style', 'description', 'filename', 'image', 'cluster'],\n",
      "        num_rows: 313\n",
      "    })\n",
      "    valid: Dataset({\n",
      "        features: ['title', 'artist', 'date', 'genre', 'style', 'description', 'filename', 'image', 'cluster'],\n",
      "        num_rows: 256\n",
      "    })\n",
      "}), 17: DatasetDict({\n",
      "    train: Dataset({\n",
      "        features: ['title', 'artist', 'date', 'genre', 'style', 'description', 'filename', 'image', 'cluster'],\n",
      "        num_rows: 1311\n",
      "    })\n",
      "    test: Dataset({\n",
      "        features: ['title', 'artist', 'date', 'genre', 'style', 'description', 'filename', 'image', 'cluster'],\n",
      "        num_rows: 155\n",
      "    })\n",
      "    valid: Dataset({\n",
      "        features: ['title', 'artist', 'date', 'genre', 'style', 'description', 'filename', 'image', 'cluster'],\n",
      "        num_rows: 178\n",
      "    })\n",
      "}), 18: DatasetDict({\n",
      "    train: Dataset({\n",
      "        features: ['title', 'artist', 'date', 'genre', 'style', 'description', 'filename', 'image', 'cluster'],\n",
      "        num_rows: 5285\n",
      "    })\n",
      "    test: Dataset({\n",
      "        features: ['title', 'artist', 'date', 'genre', 'style', 'description', 'filename', 'image', 'cluster'],\n",
      "        num_rows: 657\n",
      "    })\n",
      "    valid: Dataset({\n",
      "        features: ['title', 'artist', 'date', 'genre', 'style', 'description', 'filename', 'image', 'cluster'],\n",
      "        num_rows: 652\n",
      "    })\n",
      "}), 19: DatasetDict({\n",
      "    train: Dataset({\n",
      "        features: ['title', 'artist', 'date', 'genre', 'style', 'description', 'filename', 'image', 'cluster'],\n",
      "        num_rows: 2647\n",
      "    })\n",
      "    test: Dataset({\n",
      "        features: ['title', 'artist', 'date', 'genre', 'style', 'description', 'filename', 'image', 'cluster'],\n",
      "        num_rows: 315\n",
      "    })\n",
      "    valid: Dataset({\n",
      "        features: ['title', 'artist', 'date', 'genre', 'style', 'description', 'filename', 'image', 'cluster'],\n",
      "        num_rows: 322\n",
      "    })\n",
      "})}\n"
     ]
    }
   ],
   "execution_count": 7
  },
  {
   "cell_type": "code",
   "metadata": {},
   "source": [
    "# for cluster_id, subset in cluster_subsets.items():\n",
    "#     subset.set_format(\"arrow\")\n",
    "#     subset.save_to_disk(f\"clusters/cluster_{cluster_id}_subset\")\n",
    "#     subset.set_format(\"torch\")\n",
    "    "
   ],
   "outputs": [],
   "execution_count": null
  },
  {
   "cell_type": "code",
   "metadata": {
    "ExecuteTime": {
     "end_time": "2025-01-16T20:56:07.334951Z",
     "start_time": "2025-01-16T20:56:07.330445Z"
    }
   },
   "source": [
    "# change if not colab\n",
    "num_workers = 12\n",
    "pin_memory = True\n",
    "batch_size = 32\n",
    "\n",
    "cluster_dataloaders = {}\n",
    "\n",
    "for cluster_id in range(0,20):\n",
    "    subset = cluster_subsets[cluster_id]\n",
    "    cluster_dataloaders[cluster_id] = {\n",
    "            \"train\": DataLoader(\n",
    "                subset[\"train\"],\n",
    "                batch_size=batch_size,\n",
    "                num_workers=num_workers,\n",
    "                shuffle=True,\n",
    "                pin_memory=pin_memory,\n",
    "            ),\n",
    "            \"test\": DataLoader(\n",
    "                subset[\"test\"],\n",
    "                batch_size=batch_size,\n",
    "                num_workers=num_workers,\n",
    "                shuffle=False,\n",
    "                pin_memory=pin_memory,\n",
    "            ),\n",
    "            \"valid\": DataLoader(\n",
    "                subset[\"valid\"],\n",
    "                batch_size=batch_size,\n",
    "                num_workers=num_workers,\n",
    "                shuffle=False,\n",
    "                pin_memory=pin_memory,\n",
    "            ),\n",
    "        }\n",
    "\n"
   ],
   "outputs": [],
   "execution_count": 8
  },
  {
   "cell_type": "code",
   "metadata": {
    "ExecuteTime": {
     "end_time": "2025-01-16T20:56:09.154064Z",
     "start_time": "2025-01-16T20:56:09.150763Z"
    }
   },
   "source": [
    "print(cluster_dataloaders)"
   ],
   "outputs": [
    {
     "name": "stdout",
     "output_type": "stream",
     "text": [
      "{0: {'train': <torch.utils.data.dataloader.DataLoader object at 0x00000262FE1A4690>, 'test': <torch.utils.data.dataloader.DataLoader object at 0x00000262FE16C990>, 'valid': <torch.utils.data.dataloader.DataLoader object at 0x00000262C8FAAF10>}, 1: {'train': <torch.utils.data.dataloader.DataLoader object at 0x00000262D2383310>, 'test': <torch.utils.data.dataloader.DataLoader object at 0x00000262FE1F6410>, 'valid': <torch.utils.data.dataloader.DataLoader object at 0x00000262FE1F64D0>}, 2: {'train': <torch.utils.data.dataloader.DataLoader object at 0x00000262FE1F7050>, 'test': <torch.utils.data.dataloader.DataLoader object at 0x00000262FE1F7290>, 'valid': <torch.utils.data.dataloader.DataLoader object at 0x00000262FE1F74D0>}, 3: {'train': <torch.utils.data.dataloader.DataLoader object at 0x00000262FE1F76D0>, 'test': <torch.utils.data.dataloader.DataLoader object at 0x00000262FE1F7790>, 'valid': <torch.utils.data.dataloader.DataLoader object at 0x00000262FE1F7850>}, 4: {'train': <torch.utils.data.dataloader.DataLoader object at 0x00000262FE1F6E10>, 'test': <torch.utils.data.dataloader.DataLoader object at 0x00000262FE1F6BD0>, 'valid': <torch.utils.data.dataloader.DataLoader object at 0x00000262FE1F57D0>}, 5: {'train': <torch.utils.data.dataloader.DataLoader object at 0x00000262FE1F4350>, 'test': <torch.utils.data.dataloader.DataLoader object at 0x00000262FE1F6C50>, 'valid': <torch.utils.data.dataloader.DataLoader object at 0x00000262FE1F6CD0>}, 6: {'train': <torch.utils.data.dataloader.DataLoader object at 0x00000262FE1F4210>, 'test': <torch.utils.data.dataloader.DataLoader object at 0x00000262FE190AD0>, 'valid': <torch.utils.data.dataloader.DataLoader object at 0x00000262FE190810>}, 7: {'train': <torch.utils.data.dataloader.DataLoader object at 0x00000262FE1908D0>, 'test': <torch.utils.data.dataloader.DataLoader object at 0x00000262FE191510>, 'valid': <torch.utils.data.dataloader.DataLoader object at 0x00000262FE191750>}, 8: {'train': <torch.utils.data.dataloader.DataLoader object at 0x00000262FE191A10>, 'test': <torch.utils.data.dataloader.DataLoader object at 0x00000262FE191B50>, 'valid': <torch.utils.data.dataloader.DataLoader object at 0x00000262FE191C50>}, 9: {'train': <torch.utils.data.dataloader.DataLoader object at 0x00000262FE191210>, 'test': <torch.utils.data.dataloader.DataLoader object at 0x00000262FE190FD0>, 'valid': <torch.utils.data.dataloader.DataLoader object at 0x00000262FE192610>}, 10: {'train': <torch.utils.data.dataloader.DataLoader object at 0x00000262FE1926D0>, 'test': <torch.utils.data.dataloader.DataLoader object at 0x00000262FE190110>, 'valid': <torch.utils.data.dataloader.DataLoader object at 0x00000262FE190650>}, 11: {'train': <torch.utils.data.dataloader.DataLoader object at 0x00000262FE190F90>, 'test': <torch.utils.data.dataloader.DataLoader object at 0x00000262FE193290>, 'valid': <torch.utils.data.dataloader.DataLoader object at 0x00000262FE193590>}, 12: {'train': <torch.utils.data.dataloader.DataLoader object at 0x00000262FE193810>, 'test': <torch.utils.data.dataloader.DataLoader object at 0x00000262FE193910>, 'valid': <torch.utils.data.dataloader.DataLoader object at 0x00000262FE1930D0>}, 13: {'train': <torch.utils.data.dataloader.DataLoader object at 0x00000262FE192ED0>, 'test': <torch.utils.data.dataloader.DataLoader object at 0x00000262FE192C90>, 'valid': <torch.utils.data.dataloader.DataLoader object at 0x00000262FE1917D0>}, 14: {'train': <torch.utils.data.dataloader.DataLoader object at 0x00000262FE193490>, 'test': <torch.utils.data.dataloader.DataLoader object at 0x00000262FE1928D0>, 'valid': <torch.utils.data.dataloader.DataLoader object at 0x00000262FE1913D0>}, 15: {'train': <torch.utils.data.dataloader.DataLoader object at 0x00000262FE191FD0>, 'test': <torch.utils.data.dataloader.DataLoader object at 0x00000262FE1D6D10>, 'valid': <torch.utils.data.dataloader.DataLoader object at 0x00000262FE1D4290>}, 16: {'train': <torch.utils.data.dataloader.DataLoader object at 0x00000262FE1D4550>, 'test': <torch.utils.data.dataloader.DataLoader object at 0x00000262FE1D4650>, 'valid': <torch.utils.data.dataloader.DataLoader object at 0x00000262FE1D4750>}, 17: {'train': <torch.utils.data.dataloader.DataLoader object at 0x00000262FE1D5150>, 'test': <torch.utils.data.dataloader.DataLoader object at 0x00000262FE1D5210>, 'valid': <torch.utils.data.dataloader.DataLoader object at 0x00000262FE1D42D0>}, 18: {'train': <torch.utils.data.dataloader.DataLoader object at 0x00000262FE1D5D50>, 'test': <torch.utils.data.dataloader.DataLoader object at 0x00000262FE1D5F90>, 'valid': <torch.utils.data.dataloader.DataLoader object at 0x00000262FE1D62D0>}, 19: {'train': <torch.utils.data.dataloader.DataLoader object at 0x00000262FE1D6390>, 'test': <torch.utils.data.dataloader.DataLoader object at 0x00000262FE1D6450>, 'valid': <torch.utils.data.dataloader.DataLoader object at 0x00000262FE1D5A50>}}\n"
     ]
    }
   ],
   "execution_count": 9
  },
  {
   "cell_type": "markdown",
   "metadata": {
    "id": "a_eSbu9vjozd"
   },
   "source": [
    "## AUTOENCODER"
   ]
  },
  {
   "cell_type": "code",
   "metadata": {
    "ExecuteTime": {
     "end_time": "2025-01-16T20:56:13.617464Z",
     "start_time": "2025-01-16T20:56:12.084449Z"
    }
   },
   "source": [
    "from torchvision import models\n",
    "\n",
    "class PerceptualLoss(nn.Module):\n",
    "    def __init__(self):\n",
    "        super(PerceptualLoss, self).__init__()\n",
    "        self.feature_extractor = models.vgg16(pretrained=True).features.eval()\n",
    "        self.layers = ['4', '9', '16']\n",
    "        for param in self.feature_extractor.parameters():\n",
    "            param.requires_grad = False\n",
    "\n",
    "    def forward(self, predicted, targets):\n",
    "        pred_features = self.extract_features(predicted)\n",
    "        target_features = self.extract_features(targets)\n",
    "\n",
    "        loss = 0.0\n",
    "        for pred_feat, target_feat in zip(pred_features, target_features):\n",
    "            loss += nn.functional.mse_loss(pred_feat, target_feat)\n",
    "        return loss\n",
    "\n",
    "    def extract_features(self, x):\n",
    "        features = []\n",
    "        for name, layer in self.feature_extractor._modules.items():\n",
    "            x = layer(x)\n",
    "            if name in self.layers:\n",
    "                features.append(x)\n",
    "        return features\n",
    "\n",
    "\n",
    "class CombinedLoss(nn.Module):\n",
    "    def __init__(self, alpha=0.5):\n",
    "        super(CombinedLoss, self).__init__()\n",
    "        self.perceptual_loss = PerceptualLoss()\n",
    "        self.mse_loss = nn.MSELoss(reduction='none')\n",
    "        self.alpha = alpha\n",
    "\n",
    "    def forward(self, predicted, targets, masks):\n",
    "        loss_weights = torch.where(masks == 0.0, torch.tensor(1.0), torch.tensor(10.0))\n",
    "        loss_weights = loss_weights.unsqueeze(1)  # batch 1 h w\n",
    "        loss_weights = loss_weights.to(predicted.device)\n",
    "\n",
    "\n",
    "        mse = self.mse_loss(predicted, targets) * loss_weights\n",
    "        mse = mse.mean()\n",
    "\n",
    "        perceptual = self.perceptual_loss(predicted, targets)\n",
    "\n",
    "        return self.alpha * mse + (1 - self.alpha) * perceptual\n"
   ],
   "outputs": [],
   "execution_count": 10
  },
  {
   "cell_type": "code",
   "metadata": {
    "ExecuteTime": {
     "end_time": "2025-01-16T20:56:19.321591Z",
     "start_time": "2025-01-16T20:56:17.801941Z"
    }
   },
   "source": [
    "from torchinfo import summary\n",
    "from tqdm import tqdm \n",
    "from create_mask import generate_scaled_blob\n",
    "\n",
    "LR = 3e-5\n",
    "num_epochs = 2\n",
    "loss_func = CombinedLoss(alpha=0.7).to(device)\n",
    "\n",
    "\n",
    "\n"
   ],
   "outputs": [
    {
     "name": "stderr",
     "output_type": "stream",
     "text": [
      "C:\\Users\\kamil\\.conda\\envs\\DLF\\Lib\\site-packages\\torchvision\\models\\_utils.py:208: UserWarning: The parameter 'pretrained' is deprecated since 0.13 and may be removed in the future, please use 'weights' instead.\n",
      "  warnings.warn(\n",
      "C:\\Users\\kamil\\.conda\\envs\\DLF\\Lib\\site-packages\\torchvision\\models\\_utils.py:223: UserWarning: Arguments other than a weight enum or `None` for 'weights' are deprecated since 0.13 and may be removed in the future. The current behavior is equivalent to passing `weights=VGG16_Weights.IMAGENET1K_V1`. You can also use `weights=VGG16_Weights.DEFAULT` to get the most up-to-date weights.\n",
      "  warnings.warn(msg)\n"
     ]
    }
   ],
   "execution_count": 11
  },
  {
   "cell_type": "code",
   "metadata": {
    "ExecuteTime": {
     "end_time": "2025-01-16T21:41:14.315273Z",
     "start_time": "2025-01-16T20:57:16.313353Z"
    }
   },
   "source": [
    "from create_mask import generate_scaled_blob\n",
    "import torch, gc\n",
    "\n",
    "for cluster in range(0,20):\n",
    "    \n",
    "    PATH = \"models/inpating/mse_perceptual/model1.pth\"\n",
    "    # model = VGG16Autoencoder()\n",
    "    model = torch.load(PATH)\n",
    "    model.eval()\n",
    "    model.to(device)\n",
    "    \n",
    "    train_loader = cluster_dataloaders[cluster]['train']\n",
    "    test_loader= cluster_dataloaders[cluster]['test']\n",
    "    val_loader = cluster_dataloaders[cluster]['valid']\n",
    "    optimizer = torch.optim.Adam(model.parameters(), lr=LR)\n",
    "\n",
    "    # Train and validate\n",
    "    for epoch in range(num_epochs):\n",
    "\n",
    "        # Training phase\n",
    "        model.train()\n",
    "\n",
    "        for idx, batch in tqdm(enumerate(train_loader), desc=f\"TRAIN_{epoch}\"):\n",
    "            optimizer.zero_grad()  # Zero out gradients before each batch\n",
    "\n",
    "            images = batch[\"image\"].float() / 255.0\n",
    "            labels = batch[\"style\"]  # Assuming you still have this in your dataset\n",
    "\n",
    "            # masks with corrupted part of image\n",
    "            masks = generate_scaled_blob(images.shape, mask_percentage=(1 / 16) * 100).float() / 255.0\n",
    "\n",
    "            # apply mask\n",
    "            images_with_mask = images * (1 - masks.unsqueeze(1))\n",
    "\n",
    "            # add mask as 4th channel\n",
    "            images_with_mask = torch.cat((images_with_mask, masks.unsqueeze(1)), dim=1)  # batch 4 imgsize imgsize\n",
    "\n",
    "            inputs = images_with_mask.to(device)\n",
    "            targets = images.to(device)\n",
    "\n",
    "            reconstructed_image = model(inputs)\n",
    "            loss = loss_func(reconstructed_image, targets, masks)\n",
    "            loss.backward()\n",
    "            optimizer.step()\n",
    "            if idx % 25 == 0:\n",
    "                print(f\"Train Model {cluster}  epoch {epoch} batch {idx} loss: {loss.item()}\")\n",
    "        \n",
    "        # Validation phase\n",
    "        model.eval()\n",
    "        with torch.no_grad():\n",
    "            for idx, batch in tqdm(enumerate(val_loader), desc=f\"VAL_{epoch}\"):\n",
    "    \n",
    "                images = batch[\"image\"].float() / 255.0\n",
    "    \n",
    "                # masks with corrupted part of image\n",
    "                masks = generate_scaled_blob(images.shape, mask_percentage=(1 / 16) * 100).float() / 255.0\n",
    "    \n",
    "                #apply mask\n",
    "                images_with_mask = images * (1- masks.unsqueeze(1))\n",
    "    \n",
    "                #add mask as 4th channel\n",
    "                images_with_mask = torch.cat((images_with_mask, masks.unsqueeze(1)), dim=1) # batch 4 imgsize imgsize\n",
    "    \n",
    "                inputs = images_with_mask.to(device)\n",
    "                targets = images.to(device)\n",
    "    \n",
    "                # Forward pass through the model\n",
    "                # Autoencoder directly outputs the reconstructed image\n",
    "                reconstructed_image = model(inputs)\n",
    "    \n",
    "                loss = loss_func(reconstructed_image, targets, masks)\n",
    "                \n",
    "                if idx % 25 == 0:\n",
    "                    print(f\"VAl Model {cluster}  epoch {epoch} batch {idx} loss: {loss.item()}\")\n",
    "\n",
    "\n",
    "    # Set the model to evaluation mode\n",
    "    model.eval()\n",
    "\n",
    "    print(\"Start test\")\n",
    "    # Begin the test phase\n",
    "    with torch.no_grad():\n",
    "        for idx, batch in tqdm(enumerate(test_loader), desc=f\"TEST_{num_epochs}\"):\n",
    "    \n",
    "            # Load and preprocess images\n",
    "            images = batch[\"image\"].float() / 255.0  # Assuming images are in [0, 255], normalize to [0, 1]\n",
    "            labels = batch[\"style\"]  # Assuming you still have this in your dataset (though not used here)\n",
    "    \n",
    "            # masks with corrupted part of image\n",
    "            masks = generate_scaled_blob(images.shape, mask_percentage=(1 / 16) * 100).float() / 255.0\n",
    "    \n",
    "            # apply mask\n",
    "            images_with_mask = images * (1 - masks.unsqueeze(1))\n",
    "    \n",
    "            # add mask as 4th channel\n",
    "            images_with_mask = torch.cat((images_with_mask, masks.unsqueeze(1)), dim=1)  # batch 4 imgsize imgsize\n",
    "            \n",
    "            inputs = images_with_mask.to(device)\n",
    "            targets = images.to(device)\n",
    "            \n",
    "            reconstructed_image = model(inputs)\n",
    "    \n",
    "            loss = loss_func(reconstructed_image, targets, masks)\n",
    "            \n",
    "            if idx % 25 == 0:\n",
    "                print(f\"Test Model {cluster}  batch {idx} loss: {loss.item()}\")      \n",
    "        \n",
    "        \n",
    "    print(\"Save model dict\")\n",
    "    torch.save(model.state_dict(), f\"models/inpating/submodels/cluster_{cluster}_submodel_dict.pth\")\n",
    "    print(\"Save model\")\n",
    "    torch.save(model, f\"./cluster_{cluster}_submodel.pth\")\n",
    "    \n",
    "    del model\n",
    "    torch.cuda.empty_cache() \n",
    "    gc.collect()\n",
    "            \n"
   ],
   "outputs": [
    {
     "name": "stderr",
     "output_type": "stream",
     "text": [
      "C:\\Users\\kamil\\AppData\\Local\\Temp\\ipykernel_11728\\2872865626.py:8: FutureWarning: You are using `torch.load` with `weights_only=False` (the current default value), which uses the default pickle module implicitly. It is possible to construct malicious pickle data which will execute arbitrary code during unpickling (See https://github.com/pytorch/pytorch/blob/main/SECURITY.md#untrusted-models for more details). In a future release, the default value for `weights_only` will be flipped to `True`. This limits the functions that could be executed during unpickling. Arbitrary objects will no longer be allowed to be loaded via this mode unless they are explicitly allowlisted by the user via `torch.serialization.add_safe_globals`. We recommend you start setting `weights_only=True` for any use case where you don't have full control of the loaded file. Please open an issue on GitHub for any issues related to this experimental feature.\n",
      "  model = torch.load(PATH)\n",
      "TRAIN_0: 2it [00:04,  1.89s/it]"
     ]
    },
    {
     "name": "stdout",
     "output_type": "stream",
     "text": [
      "Train Model 0  epoch 0 batch 0 loss: 0.12263540923595428\n"
     ]
    },
    {
     "name": "stderr",
     "output_type": "stream",
     "text": [
      "TRAIN_0: 5it [00:05,  1.41it/s]C:\\Users\\kamil\\.conda\\envs\\DLF\\Lib\\site-packages\\scipy\\interpolate\\_fitpack_py.py:155: RuntimeWarning: The maximal number of iterations (20) allowed for finding smoothing\n",
      "spline with fp=s has been reached. Probable cause: s too small.\n",
      "(abs(fp-s)/s>0.001)\n",
      "  res = _impl.splprep(x, w, u, ub, ue, k, task, s, t, full_output, nest, per,\n",
      "TRAIN_0: 27it [00:14,  2.68it/s]"
     ]
    },
    {
     "name": "stdout",
     "output_type": "stream",
     "text": [
      "Train Model 0  epoch 0 batch 25 loss: 0.11066010594367981\n"
     ]
    },
    {
     "name": "stderr",
     "output_type": "stream",
     "text": [
      "TRAIN_0: 52it [00:24,  2.69it/s]"
     ]
    },
    {
     "name": "stdout",
     "output_type": "stream",
     "text": [
      "Train Model 0  epoch 0 batch 50 loss: 0.12361081689596176\n"
     ]
    },
    {
     "name": "stderr",
     "output_type": "stream",
     "text": [
      "TRAIN_0: 77it [00:33,  2.69it/s]"
     ]
    },
    {
     "name": "stdout",
     "output_type": "stream",
     "text": [
      "Train Model 0  epoch 0 batch 75 loss: 0.13577298820018768\n"
     ]
    },
    {
     "name": "stderr",
     "output_type": "stream",
     "text": [
      "TRAIN_0: 91it [00:40,  2.26it/s]\n",
      "VAL_0: 2it [00:03,  1.39s/it]"
     ]
    },
    {
     "name": "stdout",
     "output_type": "stream",
     "text": [
      "VAl Model 0  epoch 0 batch 0 loss: 0.14460988342761993\n"
     ]
    },
    {
     "name": "stderr",
     "output_type": "stream",
     "text": [
      "VAL_0: 13it [00:06,  2.16it/s]\n",
      "TRAIN_1: 2it [00:03,  1.36s/it]"
     ]
    },
    {
     "name": "stdout",
     "output_type": "stream",
     "text": [
      "Train Model 0  epoch 1 batch 0 loss: 0.11817372590303421\n"
     ]
    },
    {
     "name": "stderr",
     "output_type": "stream",
     "text": [
      "TRAIN_1: 27it [00:13,  2.69it/s]"
     ]
    },
    {
     "name": "stdout",
     "output_type": "stream",
     "text": [
      "Train Model 0  epoch 1 batch 25 loss: 0.13164004683494568\n"
     ]
    },
    {
     "name": "stderr",
     "output_type": "stream",
     "text": [
      "TRAIN_1: 52it [00:22,  2.68it/s]"
     ]
    },
    {
     "name": "stdout",
     "output_type": "stream",
     "text": [
      "Train Model 0  epoch 1 batch 50 loss: 0.12822683155536652\n"
     ]
    },
    {
     "name": "stderr",
     "output_type": "stream",
     "text": [
      "TRAIN_1: 77it [00:32,  2.75it/s]"
     ]
    },
    {
     "name": "stdout",
     "output_type": "stream",
     "text": [
      "Train Model 0  epoch 1 batch 75 loss: 0.125348761677742\n"
     ]
    },
    {
     "name": "stderr",
     "output_type": "stream",
     "text": [
      "TRAIN_1: 91it [00:38,  2.36it/s]\n",
      "VAL_1: 2it [00:03,  1.29s/it]"
     ]
    },
    {
     "name": "stdout",
     "output_type": "stream",
     "text": [
      "VAl Model 0  epoch 1 batch 0 loss: 0.13815437257289886\n"
     ]
    },
    {
     "name": "stderr",
     "output_type": "stream",
     "text": [
      "VAL_1: 13it [00:05,  2.24it/s]\n"
     ]
    },
    {
     "name": "stdout",
     "output_type": "stream",
     "text": [
      "Start test\n"
     ]
    },
    {
     "name": "stderr",
     "output_type": "stream",
     "text": [
      "TEST_2: 2it [00:03,  1.27s/it]"
     ]
    },
    {
     "name": "stdout",
     "output_type": "stream",
     "text": [
      "Test Model 0  batch 0 loss: 0.15826983749866486\n"
     ]
    },
    {
     "name": "stderr",
     "output_type": "stream",
     "text": [
      "TEST_2: 12it [00:05,  2.14it/s]\n"
     ]
    },
    {
     "name": "stdout",
     "output_type": "stream",
     "text": [
      "Save model dict\n",
      "Save model\n"
     ]
    },
    {
     "name": "stderr",
     "output_type": "stream",
     "text": [
      "TRAIN_0: 2it [00:03,  1.40s/it]"
     ]
    },
    {
     "name": "stdout",
     "output_type": "stream",
     "text": [
      "Train Model 1  epoch 0 batch 0 loss: 0.19615304470062256\n"
     ]
    },
    {
     "name": "stderr",
     "output_type": "stream",
     "text": [
      "TRAIN_0: 27it [00:13,  2.69it/s]"
     ]
    },
    {
     "name": "stdout",
     "output_type": "stream",
     "text": [
      "Train Model 1  epoch 0 batch 25 loss: 0.17110590636730194\n"
     ]
    },
    {
     "name": "stderr",
     "output_type": "stream",
     "text": [
      "TRAIN_0: 52it [00:22,  2.71it/s]"
     ]
    },
    {
     "name": "stdout",
     "output_type": "stream",
     "text": [
      "Train Model 1  epoch 0 batch 50 loss: 0.17197880148887634\n"
     ]
    },
    {
     "name": "stderr",
     "output_type": "stream",
     "text": [
      "TRAIN_0: 77it [00:32,  2.65it/s]"
     ]
    },
    {
     "name": "stdout",
     "output_type": "stream",
     "text": [
      "Train Model 1  epoch 0 batch 75 loss: 0.16215862333774567\n"
     ]
    },
    {
     "name": "stderr",
     "output_type": "stream",
     "text": [
      "TRAIN_0: 96it [00:40,  2.35it/s]\n",
      "VAL_0: 2it [00:03,  1.31s/it]"
     ]
    },
    {
     "name": "stdout",
     "output_type": "stream",
     "text": [
      "VAl Model 1  epoch 0 batch 0 loss: 0.19082391262054443\n"
     ]
    },
    {
     "name": "stderr",
     "output_type": "stream",
     "text": [
      "VAL_0: 12it [00:05,  2.12it/s]\n",
      "TRAIN_1: 2it [00:03,  1.34s/it]"
     ]
    },
    {
     "name": "stdout",
     "output_type": "stream",
     "text": [
      "Train Model 1  epoch 1 batch 0 loss: 0.16833771765232086\n"
     ]
    },
    {
     "name": "stderr",
     "output_type": "stream",
     "text": [
      "TRAIN_1: 27it [00:12,  2.73it/s]"
     ]
    },
    {
     "name": "stdout",
     "output_type": "stream",
     "text": [
      "Train Model 1  epoch 1 batch 25 loss: 0.18656952679157257\n"
     ]
    },
    {
     "name": "stderr",
     "output_type": "stream",
     "text": [
      "TRAIN_1: 52it [00:22,  2.69it/s]"
     ]
    },
    {
     "name": "stdout",
     "output_type": "stream",
     "text": [
      "Train Model 1  epoch 1 batch 50 loss: 0.19897447526454926\n"
     ]
    },
    {
     "name": "stderr",
     "output_type": "stream",
     "text": [
      "TRAIN_1: 77it [00:32,  2.73it/s]"
     ]
    },
    {
     "name": "stdout",
     "output_type": "stream",
     "text": [
      "Train Model 1  epoch 1 batch 75 loss: 0.18477319180965424\n"
     ]
    },
    {
     "name": "stderr",
     "output_type": "stream",
     "text": [
      "TRAIN_1: 96it [00:40,  2.37it/s]\n",
      "VAL_1: 2it [00:03,  1.34s/it]"
     ]
    },
    {
     "name": "stdout",
     "output_type": "stream",
     "text": [
      "VAl Model 1  epoch 1 batch 0 loss: 0.19148249924182892\n"
     ]
    },
    {
     "name": "stderr",
     "output_type": "stream",
     "text": [
      "VAL_1: 12it [00:05,  2.09it/s]\n"
     ]
    },
    {
     "name": "stdout",
     "output_type": "stream",
     "text": [
      "Start test\n"
     ]
    },
    {
     "name": "stderr",
     "output_type": "stream",
     "text": [
      "TEST_2: 2it [00:03,  1.32s/it]"
     ]
    },
    {
     "name": "stdout",
     "output_type": "stream",
     "text": [
      "Test Model 1  batch 0 loss: 0.22024667263031006\n"
     ]
    },
    {
     "name": "stderr",
     "output_type": "stream",
     "text": [
      "TEST_2: 12it [00:05,  2.11it/s]\n"
     ]
    },
    {
     "name": "stdout",
     "output_type": "stream",
     "text": [
      "Save model dict\n",
      "Save model\n"
     ]
    },
    {
     "name": "stderr",
     "output_type": "stream",
     "text": [
      "TRAIN_0: 2it [00:03,  1.43s/it]"
     ]
    },
    {
     "name": "stdout",
     "output_type": "stream",
     "text": [
      "Train Model 2  epoch 0 batch 0 loss: 0.17704398930072784\n"
     ]
    },
    {
     "name": "stderr",
     "output_type": "stream",
     "text": [
      "TRAIN_0: 27it [00:13,  2.74it/s]"
     ]
    },
    {
     "name": "stdout",
     "output_type": "stream",
     "text": [
      "Train Model 2  epoch 0 batch 25 loss: 0.18713299930095673\n"
     ]
    },
    {
     "name": "stderr",
     "output_type": "stream",
     "text": [
      "TRAIN_0: 52it [00:22,  2.70it/s]"
     ]
    },
    {
     "name": "stdout",
     "output_type": "stream",
     "text": [
      "Train Model 2  epoch 0 batch 50 loss: 0.18431751430034637\n"
     ]
    },
    {
     "name": "stderr",
     "output_type": "stream",
     "text": [
      "TRAIN_0: 77it [00:32,  2.72it/s]"
     ]
    },
    {
     "name": "stdout",
     "output_type": "stream",
     "text": [
      "Train Model 2  epoch 0 batch 75 loss: 0.1732892096042633\n"
     ]
    },
    {
     "name": "stderr",
     "output_type": "stream",
     "text": [
      "TRAIN_0: 102it [00:42,  2.68it/s]"
     ]
    },
    {
     "name": "stdout",
     "output_type": "stream",
     "text": [
      "Train Model 2  epoch 0 batch 100 loss: 0.1705787032842636\n"
     ]
    },
    {
     "name": "stderr",
     "output_type": "stream",
     "text": [
      "TRAIN_0: 127it [00:52,  2.67it/s]"
     ]
    },
    {
     "name": "stdout",
     "output_type": "stream",
     "text": [
      "Train Model 2  epoch 0 batch 125 loss: 0.14691279828548431\n"
     ]
    },
    {
     "name": "stderr",
     "output_type": "stream",
     "text": [
      "TRAIN_0: 145it [00:59,  2.43it/s]\n",
      "VAL_0: 2it [00:03,  1.28s/it]"
     ]
    },
    {
     "name": "stdout",
     "output_type": "stream",
     "text": [
      "VAl Model 2  epoch 0 batch 0 loss: 0.17501816153526306\n"
     ]
    },
    {
     "name": "stderr",
     "output_type": "stream",
     "text": [
      "VAL_0: 19it [00:06,  2.72it/s]\n",
      "TRAIN_1: 2it [00:03,  1.35s/it]"
     ]
    },
    {
     "name": "stdout",
     "output_type": "stream",
     "text": [
      "Train Model 2  epoch 1 batch 0 loss: 0.18223994970321655\n"
     ]
    },
    {
     "name": "stderr",
     "output_type": "stream",
     "text": [
      "TRAIN_1: 27it [00:13,  2.68it/s]"
     ]
    },
    {
     "name": "stdout",
     "output_type": "stream",
     "text": [
      "Train Model 2  epoch 1 batch 25 loss: 0.1735086739063263\n"
     ]
    },
    {
     "name": "stderr",
     "output_type": "stream",
     "text": [
      "TRAIN_1: 52it [00:22,  2.70it/s]"
     ]
    },
    {
     "name": "stdout",
     "output_type": "stream",
     "text": [
      "Train Model 2  epoch 1 batch 50 loss: 0.18549062311649323\n"
     ]
    },
    {
     "name": "stderr",
     "output_type": "stream",
     "text": [
      "TRAIN_1: 77it [00:32,  2.73it/s]"
     ]
    },
    {
     "name": "stdout",
     "output_type": "stream",
     "text": [
      "Train Model 2  epoch 1 batch 75 loss: 0.17697927355766296\n"
     ]
    },
    {
     "name": "stderr",
     "output_type": "stream",
     "text": [
      "TRAIN_1: 102it [00:42,  2.70it/s]"
     ]
    },
    {
     "name": "stdout",
     "output_type": "stream",
     "text": [
      "Train Model 2  epoch 1 batch 100 loss: 0.20945198833942413\n"
     ]
    },
    {
     "name": "stderr",
     "output_type": "stream",
     "text": [
      "TRAIN_1: 127it [00:52,  2.70it/s]"
     ]
    },
    {
     "name": "stdout",
     "output_type": "stream",
     "text": [
      "Train Model 2  epoch 1 batch 125 loss: 0.17114940285682678\n"
     ]
    },
    {
     "name": "stderr",
     "output_type": "stream",
     "text": [
      "TRAIN_1: 145it [00:59,  2.42it/s]\n",
      "VAL_1: 2it [00:03,  1.35s/it]"
     ]
    },
    {
     "name": "stdout",
     "output_type": "stream",
     "text": [
      "VAl Model 2  epoch 1 batch 0 loss: 0.1770186871290207\n"
     ]
    },
    {
     "name": "stderr",
     "output_type": "stream",
     "text": [
      "VAL_1: 19it [00:07,  2.71it/s]\n"
     ]
    },
    {
     "name": "stdout",
     "output_type": "stream",
     "text": [
      "Start test\n"
     ]
    },
    {
     "name": "stderr",
     "output_type": "stream",
     "text": [
      "TEST_2: 2it [00:03,  1.30s/it]"
     ]
    },
    {
     "name": "stdout",
     "output_type": "stream",
     "text": [
      "Test Model 2  batch 0 loss: 0.18223951756954193\n"
     ]
    },
    {
     "name": "stderr",
     "output_type": "stream",
     "text": [
      "TEST_2: 18it [00:06,  2.67it/s]\n"
     ]
    },
    {
     "name": "stdout",
     "output_type": "stream",
     "text": [
      "Save model dict\n",
      "Save model\n"
     ]
    },
    {
     "name": "stderr",
     "output_type": "stream",
     "text": [
      "TRAIN_0: 2it [00:03,  1.46s/it]"
     ]
    },
    {
     "name": "stdout",
     "output_type": "stream",
     "text": [
      "Train Model 3  epoch 0 batch 0 loss: 0.2727126181125641\n"
     ]
    },
    {
     "name": "stderr",
     "output_type": "stream",
     "text": [
      "TRAIN_0: 27it [00:13,  2.69it/s]"
     ]
    },
    {
     "name": "stdout",
     "output_type": "stream",
     "text": [
      "Train Model 3  epoch 0 batch 25 loss: 0.26987287402153015\n"
     ]
    },
    {
     "name": "stderr",
     "output_type": "stream",
     "text": [
      "TRAIN_0: 52it [00:23,  2.69it/s]"
     ]
    },
    {
     "name": "stdout",
     "output_type": "stream",
     "text": [
      "Train Model 3  epoch 0 batch 50 loss: 0.2765323221683502\n"
     ]
    },
    {
     "name": "stderr",
     "output_type": "stream",
     "text": [
      "TRAIN_0: 77it [00:32,  2.66it/s]"
     ]
    },
    {
     "name": "stdout",
     "output_type": "stream",
     "text": [
      "Train Model 3  epoch 0 batch 75 loss: 0.32556259632110596\n"
     ]
    },
    {
     "name": "stderr",
     "output_type": "stream",
     "text": [
      "TRAIN_0: 102it [00:42,  2.73it/s]"
     ]
    },
    {
     "name": "stdout",
     "output_type": "stream",
     "text": [
      "Train Model 3  epoch 0 batch 100 loss: 0.2704675793647766\n"
     ]
    },
    {
     "name": "stderr",
     "output_type": "stream",
     "text": [
      "TRAIN_0: 127it [00:52,  2.67it/s]"
     ]
    },
    {
     "name": "stdout",
     "output_type": "stream",
     "text": [
      "Train Model 3  epoch 0 batch 125 loss: 0.2825552821159363\n"
     ]
    },
    {
     "name": "stderr",
     "output_type": "stream",
     "text": [
      "TRAIN_0: 152it [01:02,  2.71it/s]"
     ]
    },
    {
     "name": "stdout",
     "output_type": "stream",
     "text": [
      "Train Model 3  epoch 0 batch 150 loss: 0.26081129908561707\n"
     ]
    },
    {
     "name": "stderr",
     "output_type": "stream",
     "text": [
      "TRAIN_0: 153it [01:03,  2.42it/s]\n",
      "VAL_0: 2it [00:03,  1.34s/it]"
     ]
    },
    {
     "name": "stdout",
     "output_type": "stream",
     "text": [
      "VAl Model 3  epoch 0 batch 0 loss: 0.2453227937221527\n"
     ]
    },
    {
     "name": "stderr",
     "output_type": "stream",
     "text": [
      "VAL_0: 19it [00:07,  2.66it/s]\n",
      "TRAIN_1: 2it [00:03,  1.46s/it]"
     ]
    },
    {
     "name": "stdout",
     "output_type": "stream",
     "text": [
      "Train Model 3  epoch 1 batch 0 loss: 0.30246397852897644\n"
     ]
    },
    {
     "name": "stderr",
     "output_type": "stream",
     "text": [
      "TRAIN_1: 27it [00:13,  2.69it/s]"
     ]
    },
    {
     "name": "stdout",
     "output_type": "stream",
     "text": [
      "Train Model 3  epoch 1 batch 25 loss: 0.29585644602775574\n"
     ]
    },
    {
     "name": "stderr",
     "output_type": "stream",
     "text": [
      "TRAIN_1: 52it [00:22,  2.73it/s]"
     ]
    },
    {
     "name": "stdout",
     "output_type": "stream",
     "text": [
      "Train Model 3  epoch 1 batch 50 loss: 0.30087220668792725\n"
     ]
    },
    {
     "name": "stderr",
     "output_type": "stream",
     "text": [
      "TRAIN_1: 77it [00:32,  2.74it/s]"
     ]
    },
    {
     "name": "stdout",
     "output_type": "stream",
     "text": [
      "Train Model 3  epoch 1 batch 75 loss: 0.34060221910476685\n"
     ]
    },
    {
     "name": "stderr",
     "output_type": "stream",
     "text": [
      "TRAIN_1: 102it [00:42,  2.72it/s]"
     ]
    },
    {
     "name": "stdout",
     "output_type": "stream",
     "text": [
      "Train Model 3  epoch 1 batch 100 loss: 0.27347543835639954\n"
     ]
    },
    {
     "name": "stderr",
     "output_type": "stream",
     "text": [
      "TRAIN_1: 127it [00:52,  2.66it/s]"
     ]
    },
    {
     "name": "stdout",
     "output_type": "stream",
     "text": [
      "Train Model 3  epoch 1 batch 125 loss: 0.32666099071502686\n"
     ]
    },
    {
     "name": "stderr",
     "output_type": "stream",
     "text": [
      "TRAIN_1: 152it [01:01,  2.69it/s]"
     ]
    },
    {
     "name": "stdout",
     "output_type": "stream",
     "text": [
      "Train Model 3  epoch 1 batch 150 loss: 0.31455275416374207\n"
     ]
    },
    {
     "name": "stderr",
     "output_type": "stream",
     "text": [
      "TRAIN_1: 153it [01:02,  2.43it/s]\n",
      "VAL_1: 2it [00:03,  1.35s/it]"
     ]
    },
    {
     "name": "stdout",
     "output_type": "stream",
     "text": [
      "VAl Model 3  epoch 1 batch 0 loss: 0.24912412464618683\n"
     ]
    },
    {
     "name": "stderr",
     "output_type": "stream",
     "text": [
      "VAL_1: 19it [00:07,  2.70it/s]\n"
     ]
    },
    {
     "name": "stdout",
     "output_type": "stream",
     "text": [
      "Start test\n"
     ]
    },
    {
     "name": "stderr",
     "output_type": "stream",
     "text": [
      "TEST_2: 2it [00:03,  1.30s/it]"
     ]
    },
    {
     "name": "stdout",
     "output_type": "stream",
     "text": [
      "Test Model 3  batch 0 loss: 0.2826932966709137\n"
     ]
    },
    {
     "name": "stderr",
     "output_type": "stream",
     "text": [
      "TEST_2: 19it [00:07,  2.70it/s]\n"
     ]
    },
    {
     "name": "stdout",
     "output_type": "stream",
     "text": [
      "Save model dict\n",
      "Save model\n"
     ]
    },
    {
     "name": "stderr",
     "output_type": "stream",
     "text": [
      "TRAIN_0: 2it [00:03,  1.60s/it]"
     ]
    },
    {
     "name": "stdout",
     "output_type": "stream",
     "text": [
      "Train Model 4  epoch 0 batch 0 loss: 0.20500020682811737\n"
     ]
    },
    {
     "name": "stderr",
     "output_type": "stream",
     "text": [
      "TRAIN_0: 27it [00:13,  2.68it/s]"
     ]
    },
    {
     "name": "stdout",
     "output_type": "stream",
     "text": [
      "Train Model 4  epoch 0 batch 25 loss: 0.17588500678539276\n"
     ]
    },
    {
     "name": "stderr",
     "output_type": "stream",
     "text": [
      "TRAIN_0: 52it [00:23,  2.69it/s]"
     ]
    },
    {
     "name": "stdout",
     "output_type": "stream",
     "text": [
      "Train Model 4  epoch 0 batch 50 loss: 0.182806134223938\n"
     ]
    },
    {
     "name": "stderr",
     "output_type": "stream",
     "text": [
      "TRAIN_0: 77it [00:33,  2.69it/s]"
     ]
    },
    {
     "name": "stdout",
     "output_type": "stream",
     "text": [
      "Train Model 4  epoch 0 batch 75 loss: 0.18723754584789276\n"
     ]
    },
    {
     "name": "stderr",
     "output_type": "stream",
     "text": [
      "TRAIN_0: 102it [00:43,  2.69it/s]"
     ]
    },
    {
     "name": "stdout",
     "output_type": "stream",
     "text": [
      "Train Model 4  epoch 0 batch 100 loss: 0.17167815566062927\n"
     ]
    },
    {
     "name": "stderr",
     "output_type": "stream",
     "text": [
      "TRAIN_0: 127it [00:52,  2.71it/s]"
     ]
    },
    {
     "name": "stdout",
     "output_type": "stream",
     "text": [
      "Train Model 4  epoch 0 batch 125 loss: 0.19685658812522888\n"
     ]
    },
    {
     "name": "stderr",
     "output_type": "stream",
     "text": [
      "TRAIN_0: 134it [00:56,  2.38it/s]\n",
      "VAL_0: 2it [00:03,  1.31s/it]"
     ]
    },
    {
     "name": "stdout",
     "output_type": "stream",
     "text": [
      "VAl Model 4  epoch 0 batch 0 loss: 0.17970675230026245\n"
     ]
    },
    {
     "name": "stderr",
     "output_type": "stream",
     "text": [
      "VAL_0: 17it [00:06,  2.58it/s]\n",
      "TRAIN_1: 2it [00:03,  1.39s/it]"
     ]
    },
    {
     "name": "stdout",
     "output_type": "stream",
     "text": [
      "Train Model 4  epoch 1 batch 0 loss: 0.20494064688682556\n"
     ]
    },
    {
     "name": "stderr",
     "output_type": "stream",
     "text": [
      "TRAIN_1: 27it [00:13,  2.69it/s]"
     ]
    },
    {
     "name": "stdout",
     "output_type": "stream",
     "text": [
      "Train Model 4  epoch 1 batch 25 loss: 0.20630569756031036\n"
     ]
    },
    {
     "name": "stderr",
     "output_type": "stream",
     "text": [
      "TRAIN_1: 52it [00:22,  2.67it/s]"
     ]
    },
    {
     "name": "stdout",
     "output_type": "stream",
     "text": [
      "Train Model 4  epoch 1 batch 50 loss: 0.19361692667007446\n"
     ]
    },
    {
     "name": "stderr",
     "output_type": "stream",
     "text": [
      "TRAIN_1: 77it [00:32,  2.68it/s]"
     ]
    },
    {
     "name": "stdout",
     "output_type": "stream",
     "text": [
      "Train Model 4  epoch 1 batch 75 loss: 0.216532900929451\n"
     ]
    },
    {
     "name": "stderr",
     "output_type": "stream",
     "text": [
      "TRAIN_1: 102it [00:42,  2.68it/s]"
     ]
    },
    {
     "name": "stdout",
     "output_type": "stream",
     "text": [
      "Train Model 4  epoch 1 batch 100 loss: 0.2101353108882904\n"
     ]
    },
    {
     "name": "stderr",
     "output_type": "stream",
     "text": [
      "TRAIN_1: 127it [00:52,  2.70it/s]"
     ]
    },
    {
     "name": "stdout",
     "output_type": "stream",
     "text": [
      "Train Model 4  epoch 1 batch 125 loss: 0.2012587934732437\n"
     ]
    },
    {
     "name": "stderr",
     "output_type": "stream",
     "text": [
      "TRAIN_1: 134it [00:55,  2.41it/s]\n",
      "VAL_1: 2it [00:03,  1.30s/it]"
     ]
    },
    {
     "name": "stdout",
     "output_type": "stream",
     "text": [
      "VAl Model 4  epoch 1 batch 0 loss: 0.17456023395061493\n"
     ]
    },
    {
     "name": "stderr",
     "output_type": "stream",
     "text": [
      "VAL_1: 17it [00:06,  2.60it/s]\n"
     ]
    },
    {
     "name": "stdout",
     "output_type": "stream",
     "text": [
      "Start test\n"
     ]
    },
    {
     "name": "stderr",
     "output_type": "stream",
     "text": [
      "TEST_2: 2it [00:03,  1.36s/it]"
     ]
    },
    {
     "name": "stdout",
     "output_type": "stream",
     "text": [
      "Test Model 4  batch 0 loss: 0.1977795958518982\n"
     ]
    },
    {
     "name": "stderr",
     "output_type": "stream",
     "text": [
      "TEST_2: 16it [00:06,  2.46it/s]\n"
     ]
    },
    {
     "name": "stdout",
     "output_type": "stream",
     "text": [
      "Save model dict\n",
      "Save model\n"
     ]
    },
    {
     "name": "stderr",
     "output_type": "stream",
     "text": [
      "TRAIN_0: 2it [00:03,  1.47s/it]"
     ]
    },
    {
     "name": "stdout",
     "output_type": "stream",
     "text": [
      "Train Model 5  epoch 0 batch 0 loss: 0.12410605698823929\n"
     ]
    },
    {
     "name": "stderr",
     "output_type": "stream",
     "text": [
      "TRAIN_0: 27it [00:13,  2.73it/s]"
     ]
    },
    {
     "name": "stdout",
     "output_type": "stream",
     "text": [
      "Train Model 5  epoch 0 batch 25 loss: 0.12642303109169006\n"
     ]
    },
    {
     "name": "stderr",
     "output_type": "stream",
     "text": [
      "TRAIN_0: 52it [00:23,  2.67it/s]"
     ]
    },
    {
     "name": "stdout",
     "output_type": "stream",
     "text": [
      "Train Model 5  epoch 0 batch 50 loss: 0.10184895992279053\n"
     ]
    },
    {
     "name": "stderr",
     "output_type": "stream",
     "text": [
      "TRAIN_0: 77it [00:32,  2.65it/s]"
     ]
    },
    {
     "name": "stdout",
     "output_type": "stream",
     "text": [
      "Train Model 5  epoch 0 batch 75 loss: 0.111884705722332\n"
     ]
    },
    {
     "name": "stderr",
     "output_type": "stream",
     "text": [
      "TRAIN_0: 102it [00:42,  2.69it/s]"
     ]
    },
    {
     "name": "stdout",
     "output_type": "stream",
     "text": [
      "Train Model 5  epoch 0 batch 100 loss: 0.12892508506774902\n"
     ]
    },
    {
     "name": "stderr",
     "output_type": "stream",
     "text": [
      "TRAIN_0: 127it [00:52,  2.66it/s]"
     ]
    },
    {
     "name": "stdout",
     "output_type": "stream",
     "text": [
      "Train Model 5  epoch 0 batch 125 loss: 0.09446676820516586\n"
     ]
    },
    {
     "name": "stderr",
     "output_type": "stream",
     "text": [
      "TRAIN_0: 152it [01:02,  2.68it/s]"
     ]
    },
    {
     "name": "stdout",
     "output_type": "stream",
     "text": [
      "Train Model 5  epoch 0 batch 150 loss: 0.09372920542955399\n"
     ]
    },
    {
     "name": "stderr",
     "output_type": "stream",
     "text": [
      "TRAIN_0: 157it [01:05,  2.42it/s]\n",
      "VAL_0: 2it [00:03,  1.33s/it]"
     ]
    },
    {
     "name": "stdout",
     "output_type": "stream",
     "text": [
      "VAl Model 5  epoch 0 batch 0 loss: 0.10195262730121613\n"
     ]
    },
    {
     "name": "stderr",
     "output_type": "stream",
     "text": [
      "VAL_0: 19it [00:06,  2.75it/s]\n",
      "TRAIN_1: 2it [00:03,  1.46s/it]"
     ]
    },
    {
     "name": "stdout",
     "output_type": "stream",
     "text": [
      "Train Model 5  epoch 1 batch 0 loss: 0.09851852804422379\n"
     ]
    },
    {
     "name": "stderr",
     "output_type": "stream",
     "text": [
      "TRAIN_1: 27it [00:13,  2.74it/s]"
     ]
    },
    {
     "name": "stdout",
     "output_type": "stream",
     "text": [
      "Train Model 5  epoch 1 batch 25 loss: 0.09002996236085892\n"
     ]
    },
    {
     "name": "stderr",
     "output_type": "stream",
     "text": [
      "TRAIN_1: 52it [00:22,  2.74it/s]"
     ]
    },
    {
     "name": "stdout",
     "output_type": "stream",
     "text": [
      "Train Model 5  epoch 1 batch 50 loss: 0.11981804668903351\n"
     ]
    },
    {
     "name": "stderr",
     "output_type": "stream",
     "text": [
      "TRAIN_1: 77it [00:32,  2.73it/s]"
     ]
    },
    {
     "name": "stdout",
     "output_type": "stream",
     "text": [
      "Train Model 5  epoch 1 batch 75 loss: 0.1080496534705162\n"
     ]
    },
    {
     "name": "stderr",
     "output_type": "stream",
     "text": [
      "TRAIN_1: 102it [00:42,  2.70it/s]"
     ]
    },
    {
     "name": "stdout",
     "output_type": "stream",
     "text": [
      "Train Model 5  epoch 1 batch 100 loss: 0.1071053221821785\n"
     ]
    },
    {
     "name": "stderr",
     "output_type": "stream",
     "text": [
      "TRAIN_1: 127it [00:52,  2.64it/s]"
     ]
    },
    {
     "name": "stdout",
     "output_type": "stream",
     "text": [
      "Train Model 5  epoch 1 batch 125 loss: 0.12374736368656158\n"
     ]
    },
    {
     "name": "stderr",
     "output_type": "stream",
     "text": [
      "TRAIN_1: 152it [01:01,  2.66it/s]"
     ]
    },
    {
     "name": "stdout",
     "output_type": "stream",
     "text": [
      "Train Model 5  epoch 1 batch 150 loss: 0.08957775682210922\n"
     ]
    },
    {
     "name": "stderr",
     "output_type": "stream",
     "text": [
      "TRAIN_1: 157it [01:04,  2.43it/s]\n",
      "VAL_1: 2it [00:03,  1.36s/it]"
     ]
    },
    {
     "name": "stdout",
     "output_type": "stream",
     "text": [
      "VAl Model 5  epoch 1 batch 0 loss: 0.09924428164958954\n"
     ]
    },
    {
     "name": "stderr",
     "output_type": "stream",
     "text": [
      "VAL_1: 19it [00:07,  2.67it/s]\n"
     ]
    },
    {
     "name": "stdout",
     "output_type": "stream",
     "text": [
      "Start test\n"
     ]
    },
    {
     "name": "stderr",
     "output_type": "stream",
     "text": [
      "TEST_2: 2it [00:03,  1.35s/it]"
     ]
    },
    {
     "name": "stdout",
     "output_type": "stream",
     "text": [
      "Test Model 5  batch 0 loss: 0.11898321658372879\n"
     ]
    },
    {
     "name": "stderr",
     "output_type": "stream",
     "text": [
      "TEST_2: 21it [00:07,  2.77it/s]\n"
     ]
    },
    {
     "name": "stdout",
     "output_type": "stream",
     "text": [
      "Save model dict\n",
      "Save model\n"
     ]
    },
    {
     "name": "stderr",
     "output_type": "stream",
     "text": [
      "TRAIN_0: 2it [00:03,  1.52s/it]"
     ]
    },
    {
     "name": "stdout",
     "output_type": "stream",
     "text": [
      "Train Model 6  epoch 0 batch 0 loss: 0.1782102882862091\n"
     ]
    },
    {
     "name": "stderr",
     "output_type": "stream",
     "text": [
      "TRAIN_0: 27it [00:13,  2.76it/s]"
     ]
    },
    {
     "name": "stdout",
     "output_type": "stream",
     "text": [
      "Train Model 6  epoch 0 batch 25 loss: 0.1836545318365097\n"
     ]
    },
    {
     "name": "stderr",
     "output_type": "stream",
     "text": [
      "TRAIN_0: 52it [00:22,  2.74it/s]"
     ]
    },
    {
     "name": "stdout",
     "output_type": "stream",
     "text": [
      "Train Model 6  epoch 0 batch 50 loss: 0.194637268781662\n"
     ]
    },
    {
     "name": "stderr",
     "output_type": "stream",
     "text": [
      "TRAIN_0: 77it [00:32,  2.75it/s]"
     ]
    },
    {
     "name": "stdout",
     "output_type": "stream",
     "text": [
      "Train Model 6  epoch 0 batch 75 loss: 0.16328053176403046\n"
     ]
    },
    {
     "name": "stderr",
     "output_type": "stream",
     "text": [
      "TRAIN_0: 102it [00:42,  2.76it/s]"
     ]
    },
    {
     "name": "stdout",
     "output_type": "stream",
     "text": [
      "Train Model 6  epoch 0 batch 100 loss: 0.18681812286376953\n"
     ]
    },
    {
     "name": "stderr",
     "output_type": "stream",
     "text": [
      "TRAIN_0: 111it [00:46,  2.40it/s]\n",
      "VAL_0: 2it [00:03,  1.27s/it]"
     ]
    },
    {
     "name": "stdout",
     "output_type": "stream",
     "text": [
      "VAl Model 6  epoch 0 batch 0 loss: 0.17746281623840332\n"
     ]
    },
    {
     "name": "stderr",
     "output_type": "stream",
     "text": [
      "VAL_0: 15it [00:06,  2.50it/s]\n",
      "TRAIN_1: 2it [00:03,  1.41s/it]"
     ]
    },
    {
     "name": "stdout",
     "output_type": "stream",
     "text": [
      "Train Model 6  epoch 1 batch 0 loss: 0.18766507506370544\n"
     ]
    },
    {
     "name": "stderr",
     "output_type": "stream",
     "text": [
      "TRAIN_1: 27it [00:12,  2.74it/s]"
     ]
    },
    {
     "name": "stdout",
     "output_type": "stream",
     "text": [
      "Train Model 6  epoch 1 batch 25 loss: 0.1750795692205429\n"
     ]
    },
    {
     "name": "stderr",
     "output_type": "stream",
     "text": [
      "TRAIN_1: 52it [00:22,  2.75it/s]"
     ]
    },
    {
     "name": "stdout",
     "output_type": "stream",
     "text": [
      "Train Model 6  epoch 1 batch 50 loss: 0.19430583715438843\n"
     ]
    },
    {
     "name": "stderr",
     "output_type": "stream",
     "text": [
      "TRAIN_1: 77it [00:32,  2.75it/s]"
     ]
    },
    {
     "name": "stdout",
     "output_type": "stream",
     "text": [
      "Train Model 6  epoch 1 batch 75 loss: 0.1498405486345291\n"
     ]
    },
    {
     "name": "stderr",
     "output_type": "stream",
     "text": [
      "TRAIN_1: 102it [00:41,  2.76it/s]"
     ]
    },
    {
     "name": "stdout",
     "output_type": "stream",
     "text": [
      "Train Model 6  epoch 1 batch 100 loss: 0.1911284625530243\n"
     ]
    },
    {
     "name": "stderr",
     "output_type": "stream",
     "text": [
      "TRAIN_1: 111it [00:45,  2.42it/s]\n",
      "VAL_1: 2it [00:05,  2.39s/it]"
     ]
    },
    {
     "name": "stdout",
     "output_type": "stream",
     "text": [
      "VAl Model 6  epoch 1 batch 0 loss: 0.1804487407207489\n"
     ]
    },
    {
     "name": "stderr",
     "output_type": "stream",
     "text": [
      "VAL_1: 15it [00:08,  1.70it/s]\n"
     ]
    },
    {
     "name": "stdout",
     "output_type": "stream",
     "text": [
      "Start test\n"
     ]
    },
    {
     "name": "stderr",
     "output_type": "stream",
     "text": [
      "TEST_2: 2it [00:03,  1.35s/it]"
     ]
    },
    {
     "name": "stdout",
     "output_type": "stream",
     "text": [
      "Test Model 6  batch 0 loss: 0.18491216003894806\n"
     ]
    },
    {
     "name": "stderr",
     "output_type": "stream",
     "text": [
      "TEST_2: 16it [00:06,  2.49it/s]\n"
     ]
    },
    {
     "name": "stdout",
     "output_type": "stream",
     "text": [
      "Save model dict\n",
      "Save model\n"
     ]
    },
    {
     "name": "stderr",
     "output_type": "stream",
     "text": [
      "TRAIN_0: 2it [00:04,  1.70s/it]"
     ]
    },
    {
     "name": "stdout",
     "output_type": "stream",
     "text": [
      "Train Model 7  epoch 0 batch 0 loss: 0.14558252692222595\n"
     ]
    },
    {
     "name": "stderr",
     "output_type": "stream",
     "text": [
      "TRAIN_0: 27it [00:13,  2.67it/s]"
     ]
    },
    {
     "name": "stdout",
     "output_type": "stream",
     "text": [
      "Train Model 7  epoch 0 batch 25 loss: 0.18412522971630096\n"
     ]
    },
    {
     "name": "stderr",
     "output_type": "stream",
     "text": [
      "TRAIN_0: 52it [00:23,  2.67it/s]"
     ]
    },
    {
     "name": "stdout",
     "output_type": "stream",
     "text": [
      "Train Model 7  epoch 0 batch 50 loss: 0.16120649874210358\n"
     ]
    },
    {
     "name": "stderr",
     "output_type": "stream",
     "text": [
      "TRAIN_0: 77it [00:33,  2.67it/s]"
     ]
    },
    {
     "name": "stdout",
     "output_type": "stream",
     "text": [
      "Train Model 7  epoch 0 batch 75 loss: 0.1507876068353653\n"
     ]
    },
    {
     "name": "stderr",
     "output_type": "stream",
     "text": [
      "TRAIN_0: 102it [00:43,  2.67it/s]"
     ]
    },
    {
     "name": "stdout",
     "output_type": "stream",
     "text": [
      "Train Model 7  epoch 0 batch 100 loss: 0.14849217236042023\n"
     ]
    },
    {
     "name": "stderr",
     "output_type": "stream",
     "text": [
      "TRAIN_0: 127it [00:53,  2.66it/s]"
     ]
    },
    {
     "name": "stdout",
     "output_type": "stream",
     "text": [
      "Train Model 7  epoch 0 batch 125 loss: 0.16574256122112274\n"
     ]
    },
    {
     "name": "stderr",
     "output_type": "stream",
     "text": [
      "TRAIN_0: 152it [01:03,  2.65it/s]"
     ]
    },
    {
     "name": "stdout",
     "output_type": "stream",
     "text": [
      "Train Model 7  epoch 0 batch 150 loss: 0.1579025238752365\n"
     ]
    },
    {
     "name": "stderr",
     "output_type": "stream",
     "text": [
      "TRAIN_0: 177it [01:12,  2.67it/s]"
     ]
    },
    {
     "name": "stdout",
     "output_type": "stream",
     "text": [
      "Train Model 7  epoch 0 batch 175 loss: 0.1339656263589859\n"
     ]
    },
    {
     "name": "stderr",
     "output_type": "stream",
     "text": [
      "TRAIN_0: 188it [01:17,  2.42it/s]\n",
      "VAL_0: 2it [00:03,  1.44s/it]"
     ]
    },
    {
     "name": "stdout",
     "output_type": "stream",
     "text": [
      "VAl Model 7  epoch 0 batch 0 loss: 0.18730495870113373\n"
     ]
    },
    {
     "name": "stderr",
     "output_type": "stream",
     "text": [
      "VAL_0: 24it [00:08,  2.90it/s]\n",
      "TRAIN_1: 2it [00:03,  1.47s/it]"
     ]
    },
    {
     "name": "stdout",
     "output_type": "stream",
     "text": [
      "Train Model 7  epoch 1 batch 0 loss: 0.13237102329730988\n"
     ]
    },
    {
     "name": "stderr",
     "output_type": "stream",
     "text": [
      "TRAIN_1: 27it [00:13,  2.68it/s]"
     ]
    },
    {
     "name": "stdout",
     "output_type": "stream",
     "text": [
      "Train Model 7  epoch 1 batch 25 loss: 0.17000798881053925\n"
     ]
    },
    {
     "name": "stderr",
     "output_type": "stream",
     "text": [
      "TRAIN_1: 52it [00:23,  2.68it/s]"
     ]
    },
    {
     "name": "stdout",
     "output_type": "stream",
     "text": [
      "Train Model 7  epoch 1 batch 50 loss: 0.1751745045185089\n"
     ]
    },
    {
     "name": "stderr",
     "output_type": "stream",
     "text": [
      "TRAIN_1: 77it [00:33,  2.68it/s]"
     ]
    },
    {
     "name": "stdout",
     "output_type": "stream",
     "text": [
      "Train Model 7  epoch 1 batch 75 loss: 0.12386369705200195\n"
     ]
    },
    {
     "name": "stderr",
     "output_type": "stream",
     "text": [
      "TRAIN_1: 102it [00:42,  2.70it/s]"
     ]
    },
    {
     "name": "stdout",
     "output_type": "stream",
     "text": [
      "Train Model 7  epoch 1 batch 100 loss: 0.13188990950584412\n"
     ]
    },
    {
     "name": "stderr",
     "output_type": "stream",
     "text": [
      "TRAIN_1: 127it [00:52,  2.75it/s]"
     ]
    },
    {
     "name": "stdout",
     "output_type": "stream",
     "text": [
      "Train Model 7  epoch 1 batch 125 loss: 0.17058752477169037\n"
     ]
    },
    {
     "name": "stderr",
     "output_type": "stream",
     "text": [
      "TRAIN_1: 152it [01:02,  2.75it/s]"
     ]
    },
    {
     "name": "stdout",
     "output_type": "stream",
     "text": [
      "Train Model 7  epoch 1 batch 150 loss: 0.15973970293998718\n"
     ]
    },
    {
     "name": "stderr",
     "output_type": "stream",
     "text": [
      "TRAIN_1: 177it [01:11,  2.75it/s]"
     ]
    },
    {
     "name": "stdout",
     "output_type": "stream",
     "text": [
      "Train Model 7  epoch 1 batch 175 loss: 0.14877349138259888\n"
     ]
    },
    {
     "name": "stderr",
     "output_type": "stream",
     "text": [
      "TRAIN_1: 188it [01:16,  2.46it/s]\n",
      "VAL_1: 2it [00:03,  1.41s/it]"
     ]
    },
    {
     "name": "stdout",
     "output_type": "stream",
     "text": [
      "VAl Model 7  epoch 1 batch 0 loss: 0.1780616044998169\n"
     ]
    },
    {
     "name": "stderr",
     "output_type": "stream",
     "text": [
      "VAL_1: 24it [00:07,  3.01it/s]\n"
     ]
    },
    {
     "name": "stdout",
     "output_type": "stream",
     "text": [
      "Start test\n"
     ]
    },
    {
     "name": "stderr",
     "output_type": "stream",
     "text": [
      "TEST_2: 2it [00:03,  1.38s/it]"
     ]
    },
    {
     "name": "stdout",
     "output_type": "stream",
     "text": [
      "Test Model 7  batch 0 loss: 0.13110944628715515\n"
     ]
    },
    {
     "name": "stderr",
     "output_type": "stream",
     "text": [
      "TEST_2: 25it [00:08,  3.09it/s]\n"
     ]
    },
    {
     "name": "stdout",
     "output_type": "stream",
     "text": [
      "Save model dict\n",
      "Save model\n"
     ]
    },
    {
     "name": "stderr",
     "output_type": "stream",
     "text": [
      "TRAIN_0: 2it [00:03,  1.48s/it]"
     ]
    },
    {
     "name": "stdout",
     "output_type": "stream",
     "text": [
      "Train Model 8  epoch 0 batch 0 loss: 0.13194577395915985\n"
     ]
    },
    {
     "name": "stderr",
     "output_type": "stream",
     "text": [
      "TRAIN_0: 27it [00:13,  2.76it/s]"
     ]
    },
    {
     "name": "stdout",
     "output_type": "stream",
     "text": [
      "Train Model 8  epoch 0 batch 25 loss: 0.1349072903394699\n"
     ]
    },
    {
     "name": "stderr",
     "output_type": "stream",
     "text": [
      "TRAIN_0: 52it [00:22,  2.76it/s]"
     ]
    },
    {
     "name": "stdout",
     "output_type": "stream",
     "text": [
      "Train Model 8  epoch 0 batch 50 loss: 0.1629420667886734\n"
     ]
    },
    {
     "name": "stderr",
     "output_type": "stream",
     "text": [
      "TRAIN_0: 77it [00:32,  2.74it/s]"
     ]
    },
    {
     "name": "stdout",
     "output_type": "stream",
     "text": [
      "Train Model 8  epoch 0 batch 75 loss: 0.17340128123760223\n"
     ]
    },
    {
     "name": "stderr",
     "output_type": "stream",
     "text": [
      "TRAIN_0: 102it [00:41,  2.76it/s]"
     ]
    },
    {
     "name": "stdout",
     "output_type": "stream",
     "text": [
      "Train Model 8  epoch 0 batch 100 loss: 0.15593074262142181\n"
     ]
    },
    {
     "name": "stderr",
     "output_type": "stream",
     "text": [
      "TRAIN_0: 127it [00:51,  2.75it/s]"
     ]
    },
    {
     "name": "stdout",
     "output_type": "stream",
     "text": [
      "Train Model 8  epoch 0 batch 125 loss: 0.1605491191148758\n"
     ]
    },
    {
     "name": "stderr",
     "output_type": "stream",
     "text": [
      "TRAIN_0: 152it [01:01,  2.75it/s]"
     ]
    },
    {
     "name": "stdout",
     "output_type": "stream",
     "text": [
      "Train Model 8  epoch 0 batch 150 loss: 0.14019492268562317\n"
     ]
    },
    {
     "name": "stderr",
     "output_type": "stream",
     "text": [
      "TRAIN_0: 171it [01:09,  2.48it/s]\n",
      "VAL_0: 2it [00:03,  1.35s/it]"
     ]
    },
    {
     "name": "stdout",
     "output_type": "stream",
     "text": [
      "VAl Model 8  epoch 0 batch 0 loss: 0.1498740166425705\n"
     ]
    },
    {
     "name": "stderr",
     "output_type": "stream",
     "text": [
      "VAL_0: 22it [00:07,  2.92it/s]\n",
      "TRAIN_1: 2it [00:03,  1.46s/it]"
     ]
    },
    {
     "name": "stdout",
     "output_type": "stream",
     "text": [
      "Train Model 8  epoch 1 batch 0 loss: 0.14277276396751404\n"
     ]
    },
    {
     "name": "stderr",
     "output_type": "stream",
     "text": [
      "TRAIN_1: 27it [00:13,  2.75it/s]"
     ]
    },
    {
     "name": "stdout",
     "output_type": "stream",
     "text": [
      "Train Model 8  epoch 1 batch 25 loss: 0.1423388421535492\n"
     ]
    },
    {
     "name": "stderr",
     "output_type": "stream",
     "text": [
      "TRAIN_1: 52it [00:22,  2.75it/s]"
     ]
    },
    {
     "name": "stdout",
     "output_type": "stream",
     "text": [
      "Train Model 8  epoch 1 batch 50 loss: 0.16631120443344116\n"
     ]
    },
    {
     "name": "stderr",
     "output_type": "stream",
     "text": [
      "TRAIN_1: 77it [00:32,  2.73it/s]"
     ]
    },
    {
     "name": "stdout",
     "output_type": "stream",
     "text": [
      "Train Model 8  epoch 1 batch 75 loss: 0.15528641641139984\n"
     ]
    },
    {
     "name": "stderr",
     "output_type": "stream",
     "text": [
      "TRAIN_1: 102it [00:41,  2.75it/s]"
     ]
    },
    {
     "name": "stdout",
     "output_type": "stream",
     "text": [
      "Train Model 8  epoch 1 batch 100 loss: 0.1669665426015854\n"
     ]
    },
    {
     "name": "stderr",
     "output_type": "stream",
     "text": [
      "TRAIN_1: 127it [00:51,  2.75it/s]"
     ]
    },
    {
     "name": "stdout",
     "output_type": "stream",
     "text": [
      "Train Model 8  epoch 1 batch 125 loss: 0.17130383849143982\n"
     ]
    },
    {
     "name": "stderr",
     "output_type": "stream",
     "text": [
      "TRAIN_1: 152it [01:01,  2.74it/s]"
     ]
    },
    {
     "name": "stdout",
     "output_type": "stream",
     "text": [
      "Train Model 8  epoch 1 batch 150 loss: 0.13375815749168396\n"
     ]
    },
    {
     "name": "stderr",
     "output_type": "stream",
     "text": [
      "TRAIN_1: 171it [01:08,  2.48it/s]\n",
      "VAL_1: 2it [00:03,  1.47s/it]"
     ]
    },
    {
     "name": "stdout",
     "output_type": "stream",
     "text": [
      "VAl Model 8  epoch 1 batch 0 loss: 0.15347442030906677\n"
     ]
    },
    {
     "name": "stderr",
     "output_type": "stream",
     "text": [
      "VAL_1: 22it [00:07,  2.83it/s]\n"
     ]
    },
    {
     "name": "stdout",
     "output_type": "stream",
     "text": [
      "Start test\n"
     ]
    },
    {
     "name": "stderr",
     "output_type": "stream",
     "text": [
      "TEST_2: 2it [00:03,  1.30s/it]"
     ]
    },
    {
     "name": "stdout",
     "output_type": "stream",
     "text": [
      "Test Model 8  batch 0 loss: 0.1605401188135147\n"
     ]
    },
    {
     "name": "stderr",
     "output_type": "stream",
     "text": [
      "TEST_2: 21it [00:07,  2.93it/s]\n"
     ]
    },
    {
     "name": "stdout",
     "output_type": "stream",
     "text": [
      "Save model dict\n",
      "Save model\n"
     ]
    },
    {
     "name": "stderr",
     "output_type": "stream",
     "text": [
      "TRAIN_0: 2it [00:03,  1.60s/it]"
     ]
    },
    {
     "name": "stdout",
     "output_type": "stream",
     "text": [
      "Train Model 9  epoch 0 batch 0 loss: 0.0695500522851944\n"
     ]
    },
    {
     "name": "stderr",
     "output_type": "stream",
     "text": [
      "TRAIN_0: 27it [00:13,  2.75it/s]"
     ]
    },
    {
     "name": "stdout",
     "output_type": "stream",
     "text": [
      "Train Model 9  epoch 0 batch 25 loss: 0.08481058478355408\n"
     ]
    },
    {
     "name": "stderr",
     "output_type": "stream",
     "text": [
      "TRAIN_0: 52it [00:23,  2.74it/s]"
     ]
    },
    {
     "name": "stdout",
     "output_type": "stream",
     "text": [
      "Train Model 9  epoch 0 batch 50 loss: 0.05748031288385391\n"
     ]
    },
    {
     "name": "stderr",
     "output_type": "stream",
     "text": [
      "TRAIN_0: 77it [00:32,  2.75it/s]"
     ]
    },
    {
     "name": "stdout",
     "output_type": "stream",
     "text": [
      "Train Model 9  epoch 0 batch 75 loss: 0.047699276357889175\n"
     ]
    },
    {
     "name": "stderr",
     "output_type": "stream",
     "text": [
      "TRAIN_0: 102it [00:42,  2.74it/s]"
     ]
    },
    {
     "name": "stdout",
     "output_type": "stream",
     "text": [
      "Train Model 9  epoch 0 batch 100 loss: 0.06785115599632263\n"
     ]
    },
    {
     "name": "stderr",
     "output_type": "stream",
     "text": [
      "TRAIN_0: 126it [00:51,  2.46it/s]"
     ]
    },
    {
     "name": "stdout",
     "output_type": "stream",
     "text": [
      "Train Model 9  epoch 0 batch 125 loss: 0.0559970885515213\n"
     ]
    },
    {
     "name": "stderr",
     "output_type": "stream",
     "text": [
      "TRAIN_0: 126it [00:52,  2.42it/s]\n",
      "VAL_0: 2it [00:03,  1.42s/it]"
     ]
    },
    {
     "name": "stdout",
     "output_type": "stream",
     "text": [
      "VAl Model 9  epoch 0 batch 0 loss: 0.07620495557785034\n"
     ]
    },
    {
     "name": "stderr",
     "output_type": "stream",
     "text": [
      "VAL_0: 16it [00:06,  2.42it/s]\n",
      "TRAIN_1: 2it [00:03,  1.32s/it]"
     ]
    },
    {
     "name": "stdout",
     "output_type": "stream",
     "text": [
      "Train Model 9  epoch 1 batch 0 loss: 0.07680810242891312\n"
     ]
    },
    {
     "name": "stderr",
     "output_type": "stream",
     "text": [
      "TRAIN_1: 27it [00:12,  2.75it/s]"
     ]
    },
    {
     "name": "stdout",
     "output_type": "stream",
     "text": [
      "Train Model 9  epoch 1 batch 25 loss: 0.05825132131576538\n"
     ]
    },
    {
     "name": "stderr",
     "output_type": "stream",
     "text": [
      "TRAIN_1: 52it [00:22,  2.74it/s]"
     ]
    },
    {
     "name": "stdout",
     "output_type": "stream",
     "text": [
      "Train Model 9  epoch 1 batch 50 loss: 0.06663346290588379\n"
     ]
    },
    {
     "name": "stderr",
     "output_type": "stream",
     "text": [
      "TRAIN_1: 77it [00:31,  2.75it/s]"
     ]
    },
    {
     "name": "stdout",
     "output_type": "stream",
     "text": [
      "Train Model 9  epoch 1 batch 75 loss: 0.06955498456954956\n"
     ]
    },
    {
     "name": "stderr",
     "output_type": "stream",
     "text": [
      "TRAIN_1: 102it [00:41,  2.75it/s]"
     ]
    },
    {
     "name": "stdout",
     "output_type": "stream",
     "text": [
      "Train Model 9  epoch 1 batch 100 loss: 0.067005455493927\n"
     ]
    },
    {
     "name": "stderr",
     "output_type": "stream",
     "text": [
      "TRAIN_1: 126it [00:50,  2.47it/s]"
     ]
    },
    {
     "name": "stdout",
     "output_type": "stream",
     "text": [
      "Train Model 9  epoch 1 batch 125 loss: 0.0710638090968132\n"
     ]
    },
    {
     "name": "stderr",
     "output_type": "stream",
     "text": [
      "TRAIN_1: 126it [00:51,  2.45it/s]\n",
      "VAL_1: 2it [00:02,  1.25s/it]"
     ]
    },
    {
     "name": "stdout",
     "output_type": "stream",
     "text": [
      "VAl Model 9  epoch 1 batch 0 loss: 0.06795694679021835\n"
     ]
    },
    {
     "name": "stderr",
     "output_type": "stream",
     "text": [
      "VAL_1: 16it [00:06,  2.59it/s]\n"
     ]
    },
    {
     "name": "stdout",
     "output_type": "stream",
     "text": [
      "Start test\n"
     ]
    },
    {
     "name": "stderr",
     "output_type": "stream",
     "text": [
      "TEST_2: 2it [00:02,  1.23s/it]"
     ]
    },
    {
     "name": "stdout",
     "output_type": "stream",
     "text": [
      "Test Model 9  batch 0 loss: 0.06639144569635391\n"
     ]
    },
    {
     "name": "stderr",
     "output_type": "stream",
     "text": [
      "TEST_2: 16it [00:06,  2.57it/s]\n"
     ]
    },
    {
     "name": "stdout",
     "output_type": "stream",
     "text": [
      "Save model dict\n",
      "Save model\n"
     ]
    },
    {
     "name": "stderr",
     "output_type": "stream",
     "text": [
      "TRAIN_0: 2it [00:03,  1.37s/it]"
     ]
    },
    {
     "name": "stdout",
     "output_type": "stream",
     "text": [
      "Train Model 10  epoch 0 batch 0 loss: 0.19036322832107544\n"
     ]
    },
    {
     "name": "stderr",
     "output_type": "stream",
     "text": [
      "TRAIN_0: 27it [00:12,  2.75it/s]"
     ]
    },
    {
     "name": "stdout",
     "output_type": "stream",
     "text": [
      "Train Model 10  epoch 0 batch 25 loss: 0.17881731688976288\n"
     ]
    },
    {
     "name": "stderr",
     "output_type": "stream",
     "text": [
      "TRAIN_0: 52it [00:22,  2.75it/s]"
     ]
    },
    {
     "name": "stdout",
     "output_type": "stream",
     "text": [
      "Train Model 10  epoch 0 batch 50 loss: 0.1793966293334961\n"
     ]
    },
    {
     "name": "stderr",
     "output_type": "stream",
     "text": [
      "TRAIN_0: 77it [00:32,  2.74it/s]"
     ]
    },
    {
     "name": "stdout",
     "output_type": "stream",
     "text": [
      "Train Model 10  epoch 0 batch 75 loss: 0.18460015952587128\n"
     ]
    },
    {
     "name": "stderr",
     "output_type": "stream",
     "text": [
      "TRAIN_0: 101it [00:41,  2.20it/s]"
     ]
    },
    {
     "name": "stdout",
     "output_type": "stream",
     "text": [
      "Train Model 10  epoch 0 batch 100 loss: 0.1635182946920395\n"
     ]
    },
    {
     "name": "stderr",
     "output_type": "stream",
     "text": [
      "TRAIN_0: 101it [00:42,  2.40it/s]\n",
      "VAL_0: 2it [00:03,  1.32s/it]"
     ]
    },
    {
     "name": "stdout",
     "output_type": "stream",
     "text": [
      "VAl Model 10  epoch 0 batch 0 loss: 0.15777499973773956\n"
     ]
    },
    {
     "name": "stderr",
     "output_type": "stream",
     "text": [
      "VAL_0: 13it [00:05,  2.23it/s]\n",
      "TRAIN_1: 2it [00:03,  1.37s/it]"
     ]
    },
    {
     "name": "stdout",
     "output_type": "stream",
     "text": [
      "Train Model 10  epoch 1 batch 0 loss: 0.20633602142333984\n"
     ]
    },
    {
     "name": "stderr",
     "output_type": "stream",
     "text": [
      "TRAIN_1: 27it [00:12,  2.74it/s]"
     ]
    },
    {
     "name": "stdout",
     "output_type": "stream",
     "text": [
      "Train Model 10  epoch 1 batch 25 loss: 0.1970169097185135\n"
     ]
    },
    {
     "name": "stderr",
     "output_type": "stream",
     "text": [
      "TRAIN_1: 52it [00:22,  2.73it/s]"
     ]
    },
    {
     "name": "stdout",
     "output_type": "stream",
     "text": [
      "Train Model 10  epoch 1 batch 50 loss: 0.19227541983127594\n"
     ]
    },
    {
     "name": "stderr",
     "output_type": "stream",
     "text": [
      "TRAIN_1: 77it [00:32,  2.74it/s]"
     ]
    },
    {
     "name": "stdout",
     "output_type": "stream",
     "text": [
      "Train Model 10  epoch 1 batch 75 loss: 0.16241680085659027\n"
     ]
    },
    {
     "name": "stderr",
     "output_type": "stream",
     "text": [
      "TRAIN_1: 101it [00:41,  2.19it/s]"
     ]
    },
    {
     "name": "stdout",
     "output_type": "stream",
     "text": [
      "Train Model 10  epoch 1 batch 100 loss: 0.17203478515148163\n"
     ]
    },
    {
     "name": "stderr",
     "output_type": "stream",
     "text": [
      "TRAIN_1: 101it [00:42,  2.38it/s]\n",
      "VAL_1: 2it [00:03,  1.46s/it]"
     ]
    },
    {
     "name": "stdout",
     "output_type": "stream",
     "text": [
      "VAl Model 10  epoch 1 batch 0 loss: 0.1594664454460144\n"
     ]
    },
    {
     "name": "stderr",
     "output_type": "stream",
     "text": [
      "VAL_1: 13it [00:06,  2.07it/s]\n"
     ]
    },
    {
     "name": "stdout",
     "output_type": "stream",
     "text": [
      "Start test\n"
     ]
    },
    {
     "name": "stderr",
     "output_type": "stream",
     "text": [
      "TEST_2: 2it [00:03,  1.53s/it]"
     ]
    },
    {
     "name": "stdout",
     "output_type": "stream",
     "text": [
      "Test Model 10  batch 0 loss: 0.19089753925800323\n"
     ]
    },
    {
     "name": "stderr",
     "output_type": "stream",
     "text": [
      "TEST_2: 13it [00:06,  2.03it/s]\n"
     ]
    },
    {
     "name": "stdout",
     "output_type": "stream",
     "text": [
      "Save model dict\n",
      "Save model\n"
     ]
    },
    {
     "name": "stderr",
     "output_type": "stream",
     "text": [
      "TRAIN_0: 2it [00:03,  1.43s/it]"
     ]
    },
    {
     "name": "stdout",
     "output_type": "stream",
     "text": [
      "Train Model 11  epoch 0 batch 0 loss: 0.11838287860155106\n"
     ]
    },
    {
     "name": "stderr",
     "output_type": "stream",
     "text": [
      "TRAIN_0: 27it [00:13,  2.72it/s]"
     ]
    },
    {
     "name": "stdout",
     "output_type": "stream",
     "text": [
      "Train Model 11  epoch 0 batch 25 loss: 0.1432613581418991\n"
     ]
    },
    {
     "name": "stderr",
     "output_type": "stream",
     "text": [
      "TRAIN_0: 52it [00:22,  2.71it/s]"
     ]
    },
    {
     "name": "stdout",
     "output_type": "stream",
     "text": [
      "Train Model 11  epoch 0 batch 50 loss: 0.14756187796592712\n"
     ]
    },
    {
     "name": "stderr",
     "output_type": "stream",
     "text": [
      "TRAIN_0: 77it [00:32,  2.70it/s]"
     ]
    },
    {
     "name": "stdout",
     "output_type": "stream",
     "text": [
      "Train Model 11  epoch 0 batch 75 loss: 0.13918976485729218\n"
     ]
    },
    {
     "name": "stderr",
     "output_type": "stream",
     "text": [
      "TRAIN_0: 102it [00:42,  2.66it/s]"
     ]
    },
    {
     "name": "stdout",
     "output_type": "stream",
     "text": [
      "Train Model 11  epoch 0 batch 100 loss: 0.16579966247081757\n"
     ]
    },
    {
     "name": "stderr",
     "output_type": "stream",
     "text": [
      "TRAIN_0: 126it [00:52,  2.31it/s]"
     ]
    },
    {
     "name": "stdout",
     "output_type": "stream",
     "text": [
      "Train Model 11  epoch 0 batch 125 loss: 0.13195455074310303\n"
     ]
    },
    {
     "name": "stderr",
     "output_type": "stream",
     "text": [
      "TRAIN_0: 126it [00:52,  2.38it/s]\n",
      "VAL_0: 2it [00:03,  1.33s/it]"
     ]
    },
    {
     "name": "stdout",
     "output_type": "stream",
     "text": [
      "VAl Model 11  epoch 0 batch 0 loss: 0.14184267818927765\n"
     ]
    },
    {
     "name": "stderr",
     "output_type": "stream",
     "text": [
      "VAL_0: 16it [00:06,  2.50it/s]\n",
      "TRAIN_1: 2it [00:03,  1.44s/it]"
     ]
    },
    {
     "name": "stdout",
     "output_type": "stream",
     "text": [
      "Train Model 11  epoch 1 batch 0 loss: 0.15313813090324402\n"
     ]
    },
    {
     "name": "stderr",
     "output_type": "stream",
     "text": [
      "TRAIN_1: 27it [00:13,  2.70it/s]"
     ]
    },
    {
     "name": "stdout",
     "output_type": "stream",
     "text": [
      "Train Model 11  epoch 1 batch 25 loss: 0.11527936160564423\n"
     ]
    },
    {
     "name": "stderr",
     "output_type": "stream",
     "text": [
      "TRAIN_1: 52it [00:22,  2.70it/s]"
     ]
    },
    {
     "name": "stdout",
     "output_type": "stream",
     "text": [
      "Train Model 11  epoch 1 batch 50 loss: 0.15354490280151367\n"
     ]
    },
    {
     "name": "stderr",
     "output_type": "stream",
     "text": [
      "TRAIN_1: 77it [00:32,  2.70it/s]"
     ]
    },
    {
     "name": "stdout",
     "output_type": "stream",
     "text": [
      "Train Model 11  epoch 1 batch 75 loss: 0.12388705462217331\n"
     ]
    },
    {
     "name": "stderr",
     "output_type": "stream",
     "text": [
      "TRAIN_1: 102it [00:42,  2.71it/s]"
     ]
    },
    {
     "name": "stdout",
     "output_type": "stream",
     "text": [
      "Train Model 11  epoch 1 batch 100 loss: 0.12672865390777588\n"
     ]
    },
    {
     "name": "stderr",
     "output_type": "stream",
     "text": [
      "TRAIN_1: 126it [00:51,  2.32it/s]"
     ]
    },
    {
     "name": "stdout",
     "output_type": "stream",
     "text": [
      "Train Model 11  epoch 1 batch 125 loss: 0.15943263471126556\n"
     ]
    },
    {
     "name": "stderr",
     "output_type": "stream",
     "text": [
      "TRAIN_1: 126it [00:52,  2.40it/s]\n",
      "VAL_1: 2it [00:03,  1.36s/it]"
     ]
    },
    {
     "name": "stdout",
     "output_type": "stream",
     "text": [
      "VAl Model 11  epoch 1 batch 0 loss: 0.14049962162971497\n"
     ]
    },
    {
     "name": "stderr",
     "output_type": "stream",
     "text": [
      "VAL_1: 16it [00:06,  2.47it/s]\n"
     ]
    },
    {
     "name": "stdout",
     "output_type": "stream",
     "text": [
      "Start test\n"
     ]
    },
    {
     "name": "stderr",
     "output_type": "stream",
     "text": [
      "TEST_2: 2it [00:03,  1.27s/it]"
     ]
    },
    {
     "name": "stdout",
     "output_type": "stream",
     "text": [
      "Test Model 11  batch 0 loss: 0.14168889820575714\n"
     ]
    },
    {
     "name": "stderr",
     "output_type": "stream",
     "text": [
      "TEST_2: 16it [00:06,  2.56it/s]\n"
     ]
    },
    {
     "name": "stdout",
     "output_type": "stream",
     "text": [
      "Save model dict\n",
      "Save model\n"
     ]
    },
    {
     "name": "stderr",
     "output_type": "stream",
     "text": [
      "TRAIN_0: 2it [00:03,  1.50s/it]"
     ]
    },
    {
     "name": "stdout",
     "output_type": "stream",
     "text": [
      "Train Model 12  epoch 0 batch 0 loss: 0.11667599529027939\n"
     ]
    },
    {
     "name": "stderr",
     "output_type": "stream",
     "text": [
      "TRAIN_0: 27it [00:13,  2.71it/s]"
     ]
    },
    {
     "name": "stdout",
     "output_type": "stream",
     "text": [
      "Train Model 12  epoch 0 batch 25 loss: 0.12989063560962677\n"
     ]
    },
    {
     "name": "stderr",
     "output_type": "stream",
     "text": [
      "TRAIN_0: 52it [00:23,  2.70it/s]"
     ]
    },
    {
     "name": "stdout",
     "output_type": "stream",
     "text": [
      "Train Model 12  epoch 0 batch 50 loss: 0.10770279169082642\n"
     ]
    },
    {
     "name": "stderr",
     "output_type": "stream",
     "text": [
      "TRAIN_0: 77it [00:32,  2.71it/s]"
     ]
    },
    {
     "name": "stdout",
     "output_type": "stream",
     "text": [
      "Train Model 12  epoch 0 batch 75 loss: 0.12039516121149063\n"
     ]
    },
    {
     "name": "stderr",
     "output_type": "stream",
     "text": [
      "TRAIN_0: 102it [00:42,  2.71it/s]"
     ]
    },
    {
     "name": "stdout",
     "output_type": "stream",
     "text": [
      "Train Model 12  epoch 0 batch 100 loss: 0.0994933471083641\n"
     ]
    },
    {
     "name": "stderr",
     "output_type": "stream",
     "text": [
      "TRAIN_0: 127it [00:52,  2.71it/s]"
     ]
    },
    {
     "name": "stdout",
     "output_type": "stream",
     "text": [
      "Train Model 12  epoch 0 batch 125 loss: 0.16213008761405945\n"
     ]
    },
    {
     "name": "stderr",
     "output_type": "stream",
     "text": [
      "TRAIN_0: 135it [00:56,  2.41it/s]\n",
      "VAL_0: 2it [00:03,  1.33s/it]"
     ]
    },
    {
     "name": "stdout",
     "output_type": "stream",
     "text": [
      "VAl Model 12  epoch 0 batch 0 loss: 0.13552643358707428\n"
     ]
    },
    {
     "name": "stderr",
     "output_type": "stream",
     "text": [
      "VAL_0: 18it [00:06,  2.65it/s]\n",
      "TRAIN_1: 2it [00:03,  1.39s/it]"
     ]
    },
    {
     "name": "stdout",
     "output_type": "stream",
     "text": [
      "Train Model 12  epoch 1 batch 0 loss: 0.1366894245147705\n"
     ]
    },
    {
     "name": "stderr",
     "output_type": "stream",
     "text": [
      "TRAIN_1: 27it [00:13,  2.70it/s]"
     ]
    },
    {
     "name": "stdout",
     "output_type": "stream",
     "text": [
      "Train Model 12  epoch 1 batch 25 loss: 0.11553317308425903\n"
     ]
    },
    {
     "name": "stderr",
     "output_type": "stream",
     "text": [
      "TRAIN_1: 52it [00:22,  2.69it/s]"
     ]
    },
    {
     "name": "stdout",
     "output_type": "stream",
     "text": [
      "Train Model 12  epoch 1 batch 50 loss: 0.13557694852352142\n"
     ]
    },
    {
     "name": "stderr",
     "output_type": "stream",
     "text": [
      "TRAIN_1: 77it [00:32,  2.71it/s]"
     ]
    },
    {
     "name": "stdout",
     "output_type": "stream",
     "text": [
      "Train Model 12  epoch 1 batch 75 loss: 0.11744411289691925\n"
     ]
    },
    {
     "name": "stderr",
     "output_type": "stream",
     "text": [
      "TRAIN_1: 102it [00:42,  2.69it/s]"
     ]
    },
    {
     "name": "stdout",
     "output_type": "stream",
     "text": [
      "Train Model 12  epoch 1 batch 100 loss: 0.11942731589078903\n"
     ]
    },
    {
     "name": "stderr",
     "output_type": "stream",
     "text": [
      "TRAIN_1: 127it [00:52,  2.70it/s]"
     ]
    },
    {
     "name": "stdout",
     "output_type": "stream",
     "text": [
      "Train Model 12  epoch 1 batch 125 loss: 0.10377409309148788\n"
     ]
    },
    {
     "name": "stderr",
     "output_type": "stream",
     "text": [
      "TRAIN_1: 135it [00:55,  2.42it/s]\n",
      "VAL_1: 1it [00:02,  2.02s/it]"
     ]
    },
    {
     "name": "stdout",
     "output_type": "stream",
     "text": [
      "VAl Model 12  epoch 1 batch 0 loss: 0.13620413839817047\n"
     ]
    },
    {
     "name": "stderr",
     "output_type": "stream",
     "text": [
      "VAL_1: 18it [00:06,  2.71it/s]\n"
     ]
    },
    {
     "name": "stdout",
     "output_type": "stream",
     "text": [
      "Start test\n"
     ]
    },
    {
     "name": "stderr",
     "output_type": "stream",
     "text": [
      "TEST_2: 2it [00:03,  1.35s/it]"
     ]
    },
    {
     "name": "stdout",
     "output_type": "stream",
     "text": [
      "Test Model 12  batch 0 loss: 0.12575246393680573\n"
     ]
    },
    {
     "name": "stderr",
     "output_type": "stream",
     "text": [
      "TEST_2: 16it [00:06,  2.49it/s]\n"
     ]
    },
    {
     "name": "stdout",
     "output_type": "stream",
     "text": [
      "Save model dict\n",
      "Save model\n"
     ]
    },
    {
     "name": "stderr",
     "output_type": "stream",
     "text": [
      "TRAIN_0: 2it [00:03,  1.48s/it]"
     ]
    },
    {
     "name": "stdout",
     "output_type": "stream",
     "text": [
      "Train Model 13  epoch 0 batch 0 loss: 0.08264165371656418\n"
     ]
    },
    {
     "name": "stderr",
     "output_type": "stream",
     "text": [
      "TRAIN_0: 27it [00:13,  2.78it/s]"
     ]
    },
    {
     "name": "stdout",
     "output_type": "stream",
     "text": [
      "Train Model 13  epoch 0 batch 25 loss: 0.08995044231414795\n"
     ]
    },
    {
     "name": "stderr",
     "output_type": "stream",
     "text": [
      "TRAIN_0: 52it [00:22,  2.77it/s]"
     ]
    },
    {
     "name": "stdout",
     "output_type": "stream",
     "text": [
      "Train Model 13  epoch 0 batch 50 loss: 0.1079363152384758\n"
     ]
    },
    {
     "name": "stderr",
     "output_type": "stream",
     "text": [
      "TRAIN_0: 77it [00:32,  2.78it/s]"
     ]
    },
    {
     "name": "stdout",
     "output_type": "stream",
     "text": [
      "Train Model 13  epoch 0 batch 75 loss: 0.10713056474924088\n"
     ]
    },
    {
     "name": "stderr",
     "output_type": "stream",
     "text": [
      "TRAIN_0: 102it [00:41,  2.79it/s]"
     ]
    },
    {
     "name": "stdout",
     "output_type": "stream",
     "text": [
      "Train Model 13  epoch 0 batch 100 loss: 0.09320448338985443\n"
     ]
    },
    {
     "name": "stderr",
     "output_type": "stream",
     "text": [
      "TRAIN_0: 117it [00:47,  2.44it/s]\n",
      "VAL_0: 2it [00:03,  1.34s/it]"
     ]
    },
    {
     "name": "stdout",
     "output_type": "stream",
     "text": [
      "VAl Model 13  epoch 0 batch 0 loss: 0.10450892895460129\n"
     ]
    },
    {
     "name": "stderr",
     "output_type": "stream",
     "text": [
      "VAL_0: 15it [00:06,  2.44it/s]\n",
      "TRAIN_1: 2it [00:03,  1.35s/it]"
     ]
    },
    {
     "name": "stdout",
     "output_type": "stream",
     "text": [
      "Train Model 13  epoch 1 batch 0 loss: 0.09854079782962799\n"
     ]
    },
    {
     "name": "stderr",
     "output_type": "stream",
     "text": [
      "TRAIN_1: 27it [00:12,  2.75it/s]"
     ]
    },
    {
     "name": "stdout",
     "output_type": "stream",
     "text": [
      "Train Model 13  epoch 1 batch 25 loss: 0.10368242114782333\n"
     ]
    },
    {
     "name": "stderr",
     "output_type": "stream",
     "text": [
      "TRAIN_1: 52it [00:22,  2.74it/s]"
     ]
    },
    {
     "name": "stdout",
     "output_type": "stream",
     "text": [
      "Train Model 13  epoch 1 batch 50 loss: 0.10957635939121246\n"
     ]
    },
    {
     "name": "stderr",
     "output_type": "stream",
     "text": [
      "TRAIN_1: 77it [00:31,  2.69it/s]"
     ]
    },
    {
     "name": "stdout",
     "output_type": "stream",
     "text": [
      "Train Model 13  epoch 1 batch 75 loss: 0.11337505280971527\n"
     ]
    },
    {
     "name": "stderr",
     "output_type": "stream",
     "text": [
      "TRAIN_1: 102it [00:41,  2.72it/s]"
     ]
    },
    {
     "name": "stdout",
     "output_type": "stream",
     "text": [
      "Train Model 13  epoch 1 batch 100 loss: 0.07643065601587296\n"
     ]
    },
    {
     "name": "stderr",
     "output_type": "stream",
     "text": [
      "TRAIN_1: 117it [00:48,  2.44it/s]\n",
      "VAL_1: 2it [00:03,  1.27s/it]"
     ]
    },
    {
     "name": "stdout",
     "output_type": "stream",
     "text": [
      "VAl Model 13  epoch 1 batch 0 loss: 0.10281866788864136\n"
     ]
    },
    {
     "name": "stderr",
     "output_type": "stream",
     "text": [
      "VAL_1: 15it [00:06,  2.49it/s]\n"
     ]
    },
    {
     "name": "stdout",
     "output_type": "stream",
     "text": [
      "Start test\n"
     ]
    },
    {
     "name": "stderr",
     "output_type": "stream",
     "text": [
      "TEST_2: 2it [00:03,  1.34s/it]"
     ]
    },
    {
     "name": "stdout",
     "output_type": "stream",
     "text": [
      "Test Model 13  batch 0 loss: 0.10446923971176147\n"
     ]
    },
    {
     "name": "stderr",
     "output_type": "stream",
     "text": [
      "TEST_2: 15it [00:06,  2.37it/s]\n"
     ]
    },
    {
     "name": "stdout",
     "output_type": "stream",
     "text": [
      "Save model dict\n",
      "Save model\n"
     ]
    },
    {
     "name": "stderr",
     "output_type": "stream",
     "text": [
      "TRAIN_0: 2it [00:03,  1.49s/it]"
     ]
    },
    {
     "name": "stdout",
     "output_type": "stream",
     "text": [
      "Train Model 14  epoch 0 batch 0 loss: 0.11201505362987518\n"
     ]
    },
    {
     "name": "stderr",
     "output_type": "stream",
     "text": [
      "TRAIN_0: 27it [00:13,  2.65it/s]"
     ]
    },
    {
     "name": "stdout",
     "output_type": "stream",
     "text": [
      "Train Model 14  epoch 0 batch 25 loss: 0.1212172582745552\n"
     ]
    },
    {
     "name": "stderr",
     "output_type": "stream",
     "text": [
      "TRAIN_0: 52it [00:23,  2.68it/s]"
     ]
    },
    {
     "name": "stdout",
     "output_type": "stream",
     "text": [
      "Train Model 14  epoch 0 batch 50 loss: 0.13737423717975616\n"
     ]
    },
    {
     "name": "stderr",
     "output_type": "stream",
     "text": [
      "TRAIN_0: 77it [00:32,  2.67it/s]"
     ]
    },
    {
     "name": "stdout",
     "output_type": "stream",
     "text": [
      "Train Model 14  epoch 0 batch 75 loss: 0.13406141102313995\n"
     ]
    },
    {
     "name": "stderr",
     "output_type": "stream",
     "text": [
      "TRAIN_0: 102it [00:42,  2.73it/s]"
     ]
    },
    {
     "name": "stdout",
     "output_type": "stream",
     "text": [
      "Train Model 14  epoch 0 batch 100 loss: 0.11362115293741226\n"
     ]
    },
    {
     "name": "stderr",
     "output_type": "stream",
     "text": [
      "TRAIN_0: 127it [00:52,  2.67it/s]"
     ]
    },
    {
     "name": "stdout",
     "output_type": "stream",
     "text": [
      "Train Model 14  epoch 0 batch 125 loss: 0.1155603751540184\n"
     ]
    },
    {
     "name": "stderr",
     "output_type": "stream",
     "text": [
      "TRAIN_0: 152it [01:02,  2.58it/s]"
     ]
    },
    {
     "name": "stdout",
     "output_type": "stream",
     "text": [
      "Train Model 14  epoch 0 batch 150 loss: 0.1301109492778778\n"
     ]
    },
    {
     "name": "stderr",
     "output_type": "stream",
     "text": [
      "TRAIN_0: 177it [01:12,  2.68it/s]"
     ]
    },
    {
     "name": "stdout",
     "output_type": "stream",
     "text": [
      "Train Model 14  epoch 0 batch 175 loss: 0.1395397037267685\n"
     ]
    },
    {
     "name": "stderr",
     "output_type": "stream",
     "text": [
      "TRAIN_0: 202it [01:22,  2.68it/s]"
     ]
    },
    {
     "name": "stdout",
     "output_type": "stream",
     "text": [
      "Train Model 14  epoch 0 batch 200 loss: 0.13006474077701569\n"
     ]
    },
    {
     "name": "stderr",
     "output_type": "stream",
     "text": [
      "TRAIN_0: 210it [01:26,  2.43it/s]\n",
      "VAL_0: 2it [00:03,  1.48s/it]"
     ]
    },
    {
     "name": "stdout",
     "output_type": "stream",
     "text": [
      "VAl Model 14  epoch 0 batch 0 loss: 0.1345963478088379\n"
     ]
    },
    {
     "name": "stderr",
     "output_type": "stream",
     "text": [
      "VAL_0: 26it [00:08,  4.58it/s]"
     ]
    },
    {
     "name": "stdout",
     "output_type": "stream",
     "text": [
      "VAl Model 14  epoch 0 batch 25 loss: 0.11738287657499313\n"
     ]
    },
    {
     "name": "stderr",
     "output_type": "stream",
     "text": [
      "VAL_0: 27it [00:09,  2.82it/s]\n",
      "TRAIN_1: 2it [00:03,  1.30s/it]"
     ]
    },
    {
     "name": "stdout",
     "output_type": "stream",
     "text": [
      "Train Model 14  epoch 1 batch 0 loss: 0.13535115122795105\n"
     ]
    },
    {
     "name": "stderr",
     "output_type": "stream",
     "text": [
      "TRAIN_1: 27it [00:12,  2.68it/s]"
     ]
    },
    {
     "name": "stdout",
     "output_type": "stream",
     "text": [
      "Train Model 14  epoch 1 batch 25 loss: 0.11952818185091019\n"
     ]
    },
    {
     "name": "stderr",
     "output_type": "stream",
     "text": [
      "TRAIN_1: 52it [00:22,  2.69it/s]"
     ]
    },
    {
     "name": "stdout",
     "output_type": "stream",
     "text": [
      "Train Model 14  epoch 1 batch 50 loss: 0.09738022089004517\n"
     ]
    },
    {
     "name": "stderr",
     "output_type": "stream",
     "text": [
      "TRAIN_1: 77it [00:32,  2.65it/s]"
     ]
    },
    {
     "name": "stdout",
     "output_type": "stream",
     "text": [
      "Train Model 14  epoch 1 batch 75 loss: 0.12426130473613739\n"
     ]
    },
    {
     "name": "stderr",
     "output_type": "stream",
     "text": [
      "TRAIN_1: 102it [00:42,  2.63it/s]"
     ]
    },
    {
     "name": "stdout",
     "output_type": "stream",
     "text": [
      "Train Model 14  epoch 1 batch 100 loss: 0.12562181055545807\n"
     ]
    },
    {
     "name": "stderr",
     "output_type": "stream",
     "text": [
      "TRAIN_1: 127it [00:52,  2.72it/s]"
     ]
    },
    {
     "name": "stdout",
     "output_type": "stream",
     "text": [
      "Train Model 14  epoch 1 batch 125 loss: 0.11510220915079117\n"
     ]
    },
    {
     "name": "stderr",
     "output_type": "stream",
     "text": [
      "TRAIN_1: 152it [01:02,  2.75it/s]"
     ]
    },
    {
     "name": "stdout",
     "output_type": "stream",
     "text": [
      "Train Model 14  epoch 1 batch 150 loss: 0.12266261130571365\n"
     ]
    },
    {
     "name": "stderr",
     "output_type": "stream",
     "text": [
      "TRAIN_1: 177it [01:11,  2.75it/s]"
     ]
    },
    {
     "name": "stdout",
     "output_type": "stream",
     "text": [
      "Train Model 14  epoch 1 batch 175 loss: 0.1250302791595459\n"
     ]
    },
    {
     "name": "stderr",
     "output_type": "stream",
     "text": [
      "TRAIN_1: 202it [01:21,  2.65it/s]"
     ]
    },
    {
     "name": "stdout",
     "output_type": "stream",
     "text": [
      "Train Model 14  epoch 1 batch 200 loss: 0.11846055835485458\n"
     ]
    },
    {
     "name": "stderr",
     "output_type": "stream",
     "text": [
      "TRAIN_1: 210it [01:25,  2.46it/s]\n",
      "VAL_1: 2it [00:03,  1.35s/it]"
     ]
    },
    {
     "name": "stdout",
     "output_type": "stream",
     "text": [
      "VAl Model 14  epoch 1 batch 0 loss: 0.1485898494720459\n"
     ]
    },
    {
     "name": "stderr",
     "output_type": "stream",
     "text": [
      "VAL_1: 26it [00:08,  4.27it/s]"
     ]
    },
    {
     "name": "stdout",
     "output_type": "stream",
     "text": [
      "VAl Model 14  epoch 1 batch 25 loss: 0.11822502315044403\n"
     ]
    },
    {
     "name": "stderr",
     "output_type": "stream",
     "text": [
      "VAL_1: 27it [00:09,  2.86it/s]\n"
     ]
    },
    {
     "name": "stdout",
     "output_type": "stream",
     "text": [
      "Start test\n"
     ]
    },
    {
     "name": "stderr",
     "output_type": "stream",
     "text": [
      "TEST_2: 2it [00:03,  1.54s/it]"
     ]
    },
    {
     "name": "stdout",
     "output_type": "stream",
     "text": [
      "Test Model 14  batch 0 loss: 0.11723501980304718\n"
     ]
    },
    {
     "name": "stderr",
     "output_type": "stream",
     "text": [
      "TEST_2: 26it [00:08,  4.62it/s]"
     ]
    },
    {
     "name": "stdout",
     "output_type": "stream",
     "text": [
      "Test Model 14  batch 25 loss: 0.12016379833221436\n"
     ]
    },
    {
     "name": "stderr",
     "output_type": "stream",
     "text": [
      "TEST_2: 27it [00:09,  2.84it/s]\n"
     ]
    },
    {
     "name": "stdout",
     "output_type": "stream",
     "text": [
      "Save model dict\n",
      "Save model\n"
     ]
    },
    {
     "name": "stderr",
     "output_type": "stream",
     "text": [
      "TRAIN_0: 1it [00:03,  3.30s/it]"
     ]
    },
    {
     "name": "stdout",
     "output_type": "stream",
     "text": [
      "Train Model 15  epoch 0 batch 0 loss: 0.17182937264442444\n"
     ]
    },
    {
     "name": "stderr",
     "output_type": "stream",
     "text": [
      "TRAIN_0: 27it [00:13,  2.70it/s]"
     ]
    },
    {
     "name": "stdout",
     "output_type": "stream",
     "text": [
      "Train Model 15  epoch 0 batch 25 loss: 0.19746652245521545\n"
     ]
    },
    {
     "name": "stderr",
     "output_type": "stream",
     "text": [
      "TRAIN_0: 52it [00:23,  2.71it/s]"
     ]
    },
    {
     "name": "stdout",
     "output_type": "stream",
     "text": [
      "Train Model 15  epoch 0 batch 50 loss: 0.2067263424396515\n"
     ]
    },
    {
     "name": "stderr",
     "output_type": "stream",
     "text": [
      "TRAIN_0: 77it [00:33,  2.73it/s]"
     ]
    },
    {
     "name": "stdout",
     "output_type": "stream",
     "text": [
      "Train Model 15  epoch 0 batch 75 loss: 0.20449437201023102\n"
     ]
    },
    {
     "name": "stderr",
     "output_type": "stream",
     "text": [
      "TRAIN_0: 102it [00:42,  2.76it/s]"
     ]
    },
    {
     "name": "stdout",
     "output_type": "stream",
     "text": [
      "Train Model 15  epoch 0 batch 100 loss: 0.13511253893375397\n"
     ]
    },
    {
     "name": "stderr",
     "output_type": "stream",
     "text": [
      "TRAIN_0: 127it [00:52,  2.68it/s]"
     ]
    },
    {
     "name": "stdout",
     "output_type": "stream",
     "text": [
      "Train Model 15  epoch 0 batch 125 loss: 0.15615566074848175\n"
     ]
    },
    {
     "name": "stderr",
     "output_type": "stream",
     "text": [
      "TRAIN_0: 152it [01:02,  2.73it/s]"
     ]
    },
    {
     "name": "stdout",
     "output_type": "stream",
     "text": [
      "Train Model 15  epoch 0 batch 150 loss: 0.18241895735263824\n"
     ]
    },
    {
     "name": "stderr",
     "output_type": "stream",
     "text": [
      "TRAIN_0: 167it [01:08,  2.44it/s]\n",
      "VAL_0: 2it [00:03,  1.39s/it]"
     ]
    },
    {
     "name": "stdout",
     "output_type": "stream",
     "text": [
      "VAl Model 15  epoch 0 batch 0 loss: 0.17605479061603546\n"
     ]
    },
    {
     "name": "stderr",
     "output_type": "stream",
     "text": [
      "VAL_0: 22it [00:07,  2.81it/s]\n",
      "TRAIN_1: 2it [00:03,  1.41s/it]"
     ]
    },
    {
     "name": "stdout",
     "output_type": "stream",
     "text": [
      "Train Model 15  epoch 1 batch 0 loss: 0.15998496115207672\n"
     ]
    },
    {
     "name": "stderr",
     "output_type": "stream",
     "text": [
      "TRAIN_1: 27it [00:13,  2.73it/s]"
     ]
    },
    {
     "name": "stdout",
     "output_type": "stream",
     "text": [
      "Train Model 15  epoch 1 batch 25 loss: 0.15183770656585693\n"
     ]
    },
    {
     "name": "stderr",
     "output_type": "stream",
     "text": [
      "TRAIN_1: 52it [00:22,  2.69it/s]"
     ]
    },
    {
     "name": "stdout",
     "output_type": "stream",
     "text": [
      "Train Model 15  epoch 1 batch 50 loss: 0.1670306771993637\n"
     ]
    },
    {
     "name": "stderr",
     "output_type": "stream",
     "text": [
      "TRAIN_1: 77it [00:32,  2.72it/s]"
     ]
    },
    {
     "name": "stdout",
     "output_type": "stream",
     "text": [
      "Train Model 15  epoch 1 batch 75 loss: 0.13273070752620697\n"
     ]
    },
    {
     "name": "stderr",
     "output_type": "stream",
     "text": [
      "TRAIN_1: 102it [00:42,  2.73it/s]"
     ]
    },
    {
     "name": "stdout",
     "output_type": "stream",
     "text": [
      "Train Model 15  epoch 1 batch 100 loss: 0.15392273664474487\n"
     ]
    },
    {
     "name": "stderr",
     "output_type": "stream",
     "text": [
      "TRAIN_1: 127it [00:51,  2.74it/s]"
     ]
    },
    {
     "name": "stdout",
     "output_type": "stream",
     "text": [
      "Train Model 15  epoch 1 batch 125 loss: 0.14966124296188354\n"
     ]
    },
    {
     "name": "stderr",
     "output_type": "stream",
     "text": [
      "TRAIN_1: 152it [01:01,  2.70it/s]"
     ]
    },
    {
     "name": "stdout",
     "output_type": "stream",
     "text": [
      "Train Model 15  epoch 1 batch 150 loss: 0.17992736399173737\n"
     ]
    },
    {
     "name": "stderr",
     "output_type": "stream",
     "text": [
      "TRAIN_1: 167it [01:08,  2.45it/s]\n",
      "VAL_1: 2it [00:03,  1.35s/it]"
     ]
    },
    {
     "name": "stdout",
     "output_type": "stream",
     "text": [
      "VAl Model 15  epoch 1 batch 0 loss: 0.18104460835456848\n"
     ]
    },
    {
     "name": "stderr",
     "output_type": "stream",
     "text": [
      "VAL_1: 22it [00:08,  2.60it/s]\n"
     ]
    },
    {
     "name": "stdout",
     "output_type": "stream",
     "text": [
      "Start test\n"
     ]
    },
    {
     "name": "stderr",
     "output_type": "stream",
     "text": [
      "TEST_2: 2it [00:03,  1.32s/it]"
     ]
    },
    {
     "name": "stdout",
     "output_type": "stream",
     "text": [
      "Test Model 15  batch 0 loss: 0.17785890400409698\n"
     ]
    },
    {
     "name": "stderr",
     "output_type": "stream",
     "text": [
      "TEST_2: 22it [00:08,  2.70it/s]\n"
     ]
    },
    {
     "name": "stdout",
     "output_type": "stream",
     "text": [
      "Save model dict\n",
      "Save model\n"
     ]
    },
    {
     "name": "stderr",
     "output_type": "stream",
     "text": [
      "TRAIN_0: 2it [00:03,  1.49s/it]"
     ]
    },
    {
     "name": "stdout",
     "output_type": "stream",
     "text": [
      "Train Model 16  epoch 0 batch 0 loss: 0.4011758863925934\n"
     ]
    },
    {
     "name": "stderr",
     "output_type": "stream",
     "text": [
      "TRAIN_0: 27it [00:13,  2.76it/s]"
     ]
    },
    {
     "name": "stdout",
     "output_type": "stream",
     "text": [
      "Train Model 16  epoch 0 batch 25 loss: 0.3399006128311157\n"
     ]
    },
    {
     "name": "stderr",
     "output_type": "stream",
     "text": [
      "TRAIN_0: 52it [00:22,  2.65it/s]"
     ]
    },
    {
     "name": "stdout",
     "output_type": "stream",
     "text": [
      "Train Model 16  epoch 0 batch 50 loss: 0.4014941453933716\n"
     ]
    },
    {
     "name": "stderr",
     "output_type": "stream",
     "text": [
      "TRAIN_0: 74it [00:32,  2.31it/s]\n",
      "VAL_0: 2it [00:04,  1.68s/it]"
     ]
    },
    {
     "name": "stdout",
     "output_type": "stream",
     "text": [
      "VAl Model 16  epoch 0 batch 0 loss: 0.37092089653015137\n"
     ]
    },
    {
     "name": "stderr",
     "output_type": "stream",
     "text": [
      "VAL_0: 8it [00:06,  1.29it/s]\n",
      "TRAIN_1: 1it [00:03,  3.68s/it]"
     ]
    },
    {
     "name": "stdout",
     "output_type": "stream",
     "text": [
      "Train Model 16  epoch 1 batch 0 loss: 0.38868454098701477\n"
     ]
    },
    {
     "name": "stderr",
     "output_type": "stream",
     "text": [
      "TRAIN_1: 27it [00:14,  2.69it/s]"
     ]
    },
    {
     "name": "stdout",
     "output_type": "stream",
     "text": [
      "Train Model 16  epoch 1 batch 25 loss: 0.41304200887680054\n"
     ]
    },
    {
     "name": "stderr",
     "output_type": "stream",
     "text": [
      "TRAIN_1: 52it [00:23,  2.70it/s]"
     ]
    },
    {
     "name": "stdout",
     "output_type": "stream",
     "text": [
      "Train Model 16  epoch 1 batch 50 loss: 0.40751567482948303\n"
     ]
    },
    {
     "name": "stderr",
     "output_type": "stream",
     "text": [
      "TRAIN_1: 74it [00:33,  2.24it/s]\n",
      "VAL_1: 2it [00:03,  1.43s/it]"
     ]
    },
    {
     "name": "stdout",
     "output_type": "stream",
     "text": [
      "VAl Model 16  epoch 1 batch 0 loss: 0.3557870090007782\n"
     ]
    },
    {
     "name": "stderr",
     "output_type": "stream",
     "text": [
      "VAL_1: 8it [00:05,  1.46it/s]\n"
     ]
    },
    {
     "name": "stdout",
     "output_type": "stream",
     "text": [
      "Start test\n"
     ]
    },
    {
     "name": "stderr",
     "output_type": "stream",
     "text": [
      "TEST_2: 2it [00:03,  1.30s/it]"
     ]
    },
    {
     "name": "stdout",
     "output_type": "stream",
     "text": [
      "Test Model 16  batch 0 loss: 0.35561707615852356\n"
     ]
    },
    {
     "name": "stderr",
     "output_type": "stream",
     "text": [
      "TEST_2: 10it [00:05,  1.92it/s]\n"
     ]
    },
    {
     "name": "stdout",
     "output_type": "stream",
     "text": [
      "Save model dict\n",
      "Save model\n"
     ]
    },
    {
     "name": "stderr",
     "output_type": "stream",
     "text": [
      "TRAIN_0: 2it [00:03,  1.46s/it]"
     ]
    },
    {
     "name": "stdout",
     "output_type": "stream",
     "text": [
      "Train Model 17  epoch 0 batch 0 loss: 0.14720654487609863\n"
     ]
    },
    {
     "name": "stderr",
     "output_type": "stream",
     "text": [
      "TRAIN_0: 27it [00:13,  2.70it/s]"
     ]
    },
    {
     "name": "stdout",
     "output_type": "stream",
     "text": [
      "Train Model 17  epoch 0 batch 25 loss: 0.11966796219348907\n"
     ]
    },
    {
     "name": "stderr",
     "output_type": "stream",
     "text": [
      "TRAIN_0: 41it [00:19,  2.11it/s]\n",
      "VAL_0: 2it [00:03,  1.45s/it]"
     ]
    },
    {
     "name": "stdout",
     "output_type": "stream",
     "text": [
      "VAl Model 17  epoch 0 batch 0 loss: 0.12742480635643005\n"
     ]
    },
    {
     "name": "stderr",
     "output_type": "stream",
     "text": [
      "VAL_0: 6it [00:05,  1.18it/s]\n",
      "TRAIN_1: 2it [00:03,  1.59s/it]"
     ]
    },
    {
     "name": "stdout",
     "output_type": "stream",
     "text": [
      "Train Model 17  epoch 1 batch 0 loss: 0.12909935414791107\n"
     ]
    },
    {
     "name": "stderr",
     "output_type": "stream",
     "text": [
      "TRAIN_1: 27it [00:13,  2.72it/s]"
     ]
    },
    {
     "name": "stdout",
     "output_type": "stream",
     "text": [
      "Train Model 17  epoch 1 batch 25 loss: 0.1110880970954895\n"
     ]
    },
    {
     "name": "stderr",
     "output_type": "stream",
     "text": [
      "TRAIN_1: 41it [00:19,  2.05it/s]\n",
      "VAL_1: 2it [00:03,  1.35s/it]"
     ]
    },
    {
     "name": "stdout",
     "output_type": "stream",
     "text": [
      "VAl Model 17  epoch 1 batch 0 loss: 0.12902206182479858\n"
     ]
    },
    {
     "name": "stderr",
     "output_type": "stream",
     "text": [
      "VAL_1: 6it [00:04,  1.32it/s]\n"
     ]
    },
    {
     "name": "stdout",
     "output_type": "stream",
     "text": [
      "Start test\n"
     ]
    },
    {
     "name": "stderr",
     "output_type": "stream",
     "text": [
      "TEST_2: 2it [00:03,  1.27s/it]"
     ]
    },
    {
     "name": "stdout",
     "output_type": "stream",
     "text": [
      "Test Model 17  batch 0 loss: 0.10439552366733551\n"
     ]
    },
    {
     "name": "stderr",
     "output_type": "stream",
     "text": [
      "TEST_2: 5it [00:04,  1.19it/s]\n"
     ]
    },
    {
     "name": "stdout",
     "output_type": "stream",
     "text": [
      "Save model dict\n",
      "Save model\n"
     ]
    },
    {
     "name": "stderr",
     "output_type": "stream",
     "text": [
      "TRAIN_0: 2it [00:03,  1.47s/it]"
     ]
    },
    {
     "name": "stdout",
     "output_type": "stream",
     "text": [
      "Train Model 18  epoch 0 batch 0 loss: 0.11616317927837372\n"
     ]
    },
    {
     "name": "stderr",
     "output_type": "stream",
     "text": [
      "TRAIN_0: 27it [00:13,  2.77it/s]"
     ]
    },
    {
     "name": "stdout",
     "output_type": "stream",
     "text": [
      "Train Model 18  epoch 0 batch 25 loss: 0.1597704291343689\n"
     ]
    },
    {
     "name": "stderr",
     "output_type": "stream",
     "text": [
      "TRAIN_0: 52it [00:22,  2.75it/s]"
     ]
    },
    {
     "name": "stdout",
     "output_type": "stream",
     "text": [
      "Train Model 18  epoch 0 batch 50 loss: 0.13513027131557465\n"
     ]
    },
    {
     "name": "stderr",
     "output_type": "stream",
     "text": [
      "TRAIN_0: 77it [00:32,  2.73it/s]"
     ]
    },
    {
     "name": "stdout",
     "output_type": "stream",
     "text": [
      "Train Model 18  epoch 0 batch 75 loss: 0.11427034437656403\n"
     ]
    },
    {
     "name": "stderr",
     "output_type": "stream",
     "text": [
      "TRAIN_0: 102it [00:42,  2.74it/s]"
     ]
    },
    {
     "name": "stdout",
     "output_type": "stream",
     "text": [
      "Train Model 18  epoch 0 batch 100 loss: 0.1160358414053917\n"
     ]
    },
    {
     "name": "stderr",
     "output_type": "stream",
     "text": [
      "TRAIN_0: 127it [00:51,  2.76it/s]"
     ]
    },
    {
     "name": "stdout",
     "output_type": "stream",
     "text": [
      "Train Model 18  epoch 0 batch 125 loss: 0.13282494246959686\n"
     ]
    },
    {
     "name": "stderr",
     "output_type": "stream",
     "text": [
      "TRAIN_0: 152it [01:01,  2.69it/s]"
     ]
    },
    {
     "name": "stdout",
     "output_type": "stream",
     "text": [
      "Train Model 18  epoch 0 batch 150 loss: 0.12410926073789597\n"
     ]
    },
    {
     "name": "stderr",
     "output_type": "stream",
     "text": [
      "TRAIN_0: 166it [01:07,  2.45it/s]\n",
      "VAL_0: 2it [00:03,  1.37s/it]"
     ]
    },
    {
     "name": "stdout",
     "output_type": "stream",
     "text": [
      "VAl Model 18  epoch 0 batch 0 loss: 0.1195143535733223\n"
     ]
    },
    {
     "name": "stderr",
     "output_type": "stream",
     "text": [
      "VAL_0: 21it [00:08,  2.59it/s]\n",
      "TRAIN_1: 2it [00:03,  1.57s/it]"
     ]
    },
    {
     "name": "stdout",
     "output_type": "stream",
     "text": [
      "Train Model 18  epoch 1 batch 0 loss: 0.11726115643978119\n"
     ]
    },
    {
     "name": "stderr",
     "output_type": "stream",
     "text": [
      "TRAIN_1: 27it [00:13,  2.74it/s]"
     ]
    },
    {
     "name": "stdout",
     "output_type": "stream",
     "text": [
      "Train Model 18  epoch 1 batch 25 loss: 0.12849383056163788\n"
     ]
    },
    {
     "name": "stderr",
     "output_type": "stream",
     "text": [
      "TRAIN_1: 52it [00:23,  2.76it/s]"
     ]
    },
    {
     "name": "stdout",
     "output_type": "stream",
     "text": [
      "Train Model 18  epoch 1 batch 50 loss: 0.1316857635974884\n"
     ]
    },
    {
     "name": "stderr",
     "output_type": "stream",
     "text": [
      "TRAIN_1: 77it [00:33,  2.73it/s]"
     ]
    },
    {
     "name": "stdout",
     "output_type": "stream",
     "text": [
      "Train Model 18  epoch 1 batch 75 loss: 0.17246469855308533\n"
     ]
    },
    {
     "name": "stderr",
     "output_type": "stream",
     "text": [
      "TRAIN_1: 102it [00:42,  2.75it/s]"
     ]
    },
    {
     "name": "stdout",
     "output_type": "stream",
     "text": [
      "Train Model 18  epoch 1 batch 100 loss: 0.11245901882648468\n"
     ]
    },
    {
     "name": "stderr",
     "output_type": "stream",
     "text": [
      "TRAIN_1: 127it [00:52,  2.70it/s]"
     ]
    },
    {
     "name": "stdout",
     "output_type": "stream",
     "text": [
      "Train Model 18  epoch 1 batch 125 loss: 0.13112032413482666\n"
     ]
    },
    {
     "name": "stderr",
     "output_type": "stream",
     "text": [
      "TRAIN_1: 152it [01:02,  2.75it/s]"
     ]
    },
    {
     "name": "stdout",
     "output_type": "stream",
     "text": [
      "Train Model 18  epoch 1 batch 150 loss: 0.11879206448793411\n"
     ]
    },
    {
     "name": "stderr",
     "output_type": "stream",
     "text": [
      "TRAIN_1: 166it [01:08,  2.43it/s]\n",
      "VAL_1: 2it [00:03,  1.34s/it]"
     ]
    },
    {
     "name": "stdout",
     "output_type": "stream",
     "text": [
      "VAl Model 18  epoch 1 batch 0 loss: 0.12080930173397064\n"
     ]
    },
    {
     "name": "stderr",
     "output_type": "stream",
     "text": [
      "VAL_1: 21it [00:07,  2.85it/s]\n"
     ]
    },
    {
     "name": "stdout",
     "output_type": "stream",
     "text": [
      "Start test\n"
     ]
    },
    {
     "name": "stderr",
     "output_type": "stream",
     "text": [
      "TEST_2: 2it [00:03,  1.46s/it]"
     ]
    },
    {
     "name": "stdout",
     "output_type": "stream",
     "text": [
      "Test Model 18  batch 0 loss: 0.1325928121805191\n"
     ]
    },
    {
     "name": "stderr",
     "output_type": "stream",
     "text": [
      "TEST_2: 21it [00:07,  2.75it/s]\n"
     ]
    },
    {
     "name": "stdout",
     "output_type": "stream",
     "text": [
      "Save model dict\n",
      "Save model\n"
     ]
    },
    {
     "name": "stderr",
     "output_type": "stream",
     "text": [
      "TRAIN_0: 2it [00:03,  1.54s/it]"
     ]
    },
    {
     "name": "stdout",
     "output_type": "stream",
     "text": [
      "Train Model 19  epoch 0 batch 0 loss: 0.15651291608810425\n"
     ]
    },
    {
     "name": "stderr",
     "output_type": "stream",
     "text": [
      "TRAIN_0: 27it [00:13,  2.73it/s]"
     ]
    },
    {
     "name": "stdout",
     "output_type": "stream",
     "text": [
      "Train Model 19  epoch 0 batch 25 loss: 0.17291565239429474\n"
     ]
    },
    {
     "name": "stderr",
     "output_type": "stream",
     "text": [
      "TRAIN_0: 52it [00:23,  2.75it/s]"
     ]
    },
    {
     "name": "stdout",
     "output_type": "stream",
     "text": [
      "Train Model 19  epoch 0 batch 50 loss: 0.16004250943660736\n"
     ]
    },
    {
     "name": "stderr",
     "output_type": "stream",
     "text": [
      "TRAIN_0: 77it [00:33,  2.76it/s]"
     ]
    },
    {
     "name": "stdout",
     "output_type": "stream",
     "text": [
      "Train Model 19  epoch 0 batch 75 loss: 0.23310552537441254\n"
     ]
    },
    {
     "name": "stderr",
     "output_type": "stream",
     "text": [
      "TRAIN_0: 83it [00:36,  2.29it/s]\n",
      "VAL_0: 2it [00:03,  1.30s/it]"
     ]
    },
    {
     "name": "stdout",
     "output_type": "stream",
     "text": [
      "VAl Model 19  epoch 0 batch 0 loss: 0.169723242521286\n"
     ]
    },
    {
     "name": "stderr",
     "output_type": "stream",
     "text": [
      "VAL_0: 11it [00:05,  2.04it/s]\n",
      "TRAIN_1: 2it [00:03,  1.48s/it]"
     ]
    },
    {
     "name": "stdout",
     "output_type": "stream",
     "text": [
      "Train Model 19  epoch 1 batch 0 loss: 0.19356440007686615\n"
     ]
    },
    {
     "name": "stderr",
     "output_type": "stream",
     "text": [
      "TRAIN_1: 27it [00:13,  2.71it/s]"
     ]
    },
    {
     "name": "stdout",
     "output_type": "stream",
     "text": [
      "Train Model 19  epoch 1 batch 25 loss: 0.1663149893283844\n"
     ]
    },
    {
     "name": "stderr",
     "output_type": "stream",
     "text": [
      "TRAIN_1: 52it [00:23,  2.73it/s]"
     ]
    },
    {
     "name": "stdout",
     "output_type": "stream",
     "text": [
      "Train Model 19  epoch 1 batch 50 loss: 0.18820196390151978\n"
     ]
    },
    {
     "name": "stderr",
     "output_type": "stream",
     "text": [
      "TRAIN_1: 77it [00:32,  2.65it/s]"
     ]
    },
    {
     "name": "stdout",
     "output_type": "stream",
     "text": [
      "Train Model 19  epoch 1 batch 75 loss: 0.16907982528209686\n"
     ]
    },
    {
     "name": "stderr",
     "output_type": "stream",
     "text": [
      "TRAIN_1: 83it [00:35,  2.31it/s]\n",
      "VAL_1: 2it [00:03,  1.32s/it]"
     ]
    },
    {
     "name": "stdout",
     "output_type": "stream",
     "text": [
      "VAl Model 19  epoch 1 batch 0 loss: 0.1582634001970291\n"
     ]
    },
    {
     "name": "stderr",
     "output_type": "stream",
     "text": [
      "VAL_1: 11it [00:05,  2.04it/s]\n"
     ]
    },
    {
     "name": "stdout",
     "output_type": "stream",
     "text": [
      "Start test\n"
     ]
    },
    {
     "name": "stderr",
     "output_type": "stream",
     "text": [
      "TEST_2: 2it [00:03,  1.36s/it]"
     ]
    },
    {
     "name": "stdout",
     "output_type": "stream",
     "text": [
      "Test Model 19  batch 0 loss: 0.149053156375885\n"
     ]
    },
    {
     "name": "stderr",
     "output_type": "stream",
     "text": [
      "TEST_2: 10it [00:05,  1.86it/s]\n"
     ]
    },
    {
     "name": "stdout",
     "output_type": "stream",
     "text": [
      "Save model dict\n",
      "Save model\n"
     ]
    }
   ],
   "execution_count": 12
  },
  {
   "cell_type": "code",
   "metadata": {},
   "source": [],
   "outputs": [],
   "execution_count": null
  }
 ],
 "metadata": {
  "colab": {
   "provenance": []
  },
  "kernelspec": {
   "display_name": ".venv",
   "language": "python",
   "name": "python3"
  },
  "language_info": {
   "codemirror_mode": {
    "name": "ipython",
    "version": 3
   },
   "file_extension": ".py",
   "mimetype": "text/x-python",
   "name": "python",
   "nbconvert_exporter": "python",
   "pygments_lexer": "ipython3",
   "version": "3.12.6"
  }
 },
 "nbformat": 4,
 "nbformat_minor": 0
}
